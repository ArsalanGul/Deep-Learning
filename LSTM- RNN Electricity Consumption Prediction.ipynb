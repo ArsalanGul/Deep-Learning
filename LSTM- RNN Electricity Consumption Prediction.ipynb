{
 "cells": [
  {
   "cell_type": "code",
   "execution_count": 1,
   "metadata": {},
   "outputs": [],
   "source": [
    "import numpy as np\n",
    "import pandas as pd\n",
    "import matplotlib.pyplot as plt\n",
    "%matplotlib inline"
   ]
  },
  {
   "cell_type": "code",
   "execution_count": 2,
   "metadata": {},
   "outputs": [
    {
     "data": {
      "text/html": [
       "<div>\n",
       "<style scoped>\n",
       "    .dataframe tbody tr th:only-of-type {\n",
       "        vertical-align: middle;\n",
       "    }\n",
       "\n",
       "    .dataframe tbody tr th {\n",
       "        vertical-align: top;\n",
       "    }\n",
       "\n",
       "    .dataframe thead th {\n",
       "        text-align: right;\n",
       "    }\n",
       "</style>\n",
       "<table border=\"1\" class=\"dataframe\">\n",
       "  <thead>\n",
       "    <tr style=\"text-align: right;\">\n",
       "      <th></th>\n",
       "      <th>DateTime</th>\n",
       "      <th>Consumption kWh</th>\n",
       "      <th>Off-peak</th>\n",
       "      <th>Mid-peak</th>\n",
       "      <th>On-peak</th>\n",
       "    </tr>\n",
       "  </thead>\n",
       "  <tbody>\n",
       "    <tr>\n",
       "      <th>0</th>\n",
       "      <td>11/25/2011 01:00:00</td>\n",
       "      <td>0.39</td>\n",
       "      <td>1</td>\n",
       "      <td>0</td>\n",
       "      <td>0</td>\n",
       "    </tr>\n",
       "    <tr>\n",
       "      <th>1</th>\n",
       "      <td>11/25/2011 02:00:00</td>\n",
       "      <td>0.33</td>\n",
       "      <td>1</td>\n",
       "      <td>0</td>\n",
       "      <td>0</td>\n",
       "    </tr>\n",
       "    <tr>\n",
       "      <th>2</th>\n",
       "      <td>11/25/2011 03:00:00</td>\n",
       "      <td>0.27</td>\n",
       "      <td>1</td>\n",
       "      <td>0</td>\n",
       "      <td>0</td>\n",
       "    </tr>\n",
       "    <tr>\n",
       "      <th>3</th>\n",
       "      <td>11/25/2011 04:00:00</td>\n",
       "      <td>0.29</td>\n",
       "      <td>1</td>\n",
       "      <td>0</td>\n",
       "      <td>0</td>\n",
       "    </tr>\n",
       "    <tr>\n",
       "      <th>4</th>\n",
       "      <td>11/25/2011 05:00:00</td>\n",
       "      <td>0.29</td>\n",
       "      <td>1</td>\n",
       "      <td>0</td>\n",
       "      <td>0</td>\n",
       "    </tr>\n",
       "  </tbody>\n",
       "</table>\n",
       "</div>"
      ],
      "text/plain": [
       "              DateTime  Consumption kWh  Off-peak  Mid-peak  On-peak\n",
       "0  11/25/2011 01:00:00             0.39         1         0        0\n",
       "1  11/25/2011 02:00:00             0.33         1         0        0\n",
       "2  11/25/2011 03:00:00             0.27         1         0        0\n",
       "3  11/25/2011 04:00:00             0.29         1         0        0\n",
       "4  11/25/2011 05:00:00             0.29         1         0        0"
      ]
     },
     "execution_count": 2,
     "metadata": {},
     "output_type": "execute_result"
    }
   ],
   "source": [
    "data= pd.read_csv('electricity-usage.csv')\n",
    "data.head()"
   ]
  },
  {
   "cell_type": "markdown",
   "metadata": {},
   "source": [
    "[Wikipedia link describing Peak Demand Terminologies](https://en.wikipedia.org/wiki/Peak_demand#When_is_the_peak_electricity_demand?)"
   ]
  },
  {
   "cell_type": "markdown",
   "metadata": {},
   "source": [
    "##### Off-Peak: Opposite of On-Peak \n",
    "##### On-Peak: Time at which demand is highe than average\n",
    "##### Mid-Peak: Average Demand"
   ]
  },
  {
   "cell_type": "code",
   "execution_count": 3,
   "metadata": {},
   "outputs": [],
   "source": [
    "data.set_index(pd.date_range('11/25/2011 01:00:00',freq='H',periods= 2712),inplace=True)"
   ]
  },
  {
   "cell_type": "code",
   "execution_count": 4,
   "metadata": {},
   "outputs": [
    {
     "data": {
      "text/html": [
       "<div>\n",
       "<style scoped>\n",
       "    .dataframe tbody tr th:only-of-type {\n",
       "        vertical-align: middle;\n",
       "    }\n",
       "\n",
       "    .dataframe tbody tr th {\n",
       "        vertical-align: top;\n",
       "    }\n",
       "\n",
       "    .dataframe thead th {\n",
       "        text-align: right;\n",
       "    }\n",
       "</style>\n",
       "<table border=\"1\" class=\"dataframe\">\n",
       "  <thead>\n",
       "    <tr style=\"text-align: right;\">\n",
       "      <th></th>\n",
       "      <th>DateTime</th>\n",
       "      <th>Consumption kWh</th>\n",
       "      <th>Off-peak</th>\n",
       "      <th>Mid-peak</th>\n",
       "      <th>On-peak</th>\n",
       "    </tr>\n",
       "  </thead>\n",
       "  <tbody>\n",
       "    <tr>\n",
       "      <th>2011-11-25 01:00:00</th>\n",
       "      <td>11/25/2011 01:00:00</td>\n",
       "      <td>0.39</td>\n",
       "      <td>1</td>\n",
       "      <td>0</td>\n",
       "      <td>0</td>\n",
       "    </tr>\n",
       "    <tr>\n",
       "      <th>2011-11-25 02:00:00</th>\n",
       "      <td>11/25/2011 02:00:00</td>\n",
       "      <td>0.33</td>\n",
       "      <td>1</td>\n",
       "      <td>0</td>\n",
       "      <td>0</td>\n",
       "    </tr>\n",
       "    <tr>\n",
       "      <th>2011-11-25 03:00:00</th>\n",
       "      <td>11/25/2011 03:00:00</td>\n",
       "      <td>0.27</td>\n",
       "      <td>1</td>\n",
       "      <td>0</td>\n",
       "      <td>0</td>\n",
       "    </tr>\n",
       "    <tr>\n",
       "      <th>2011-11-25 04:00:00</th>\n",
       "      <td>11/25/2011 04:00:00</td>\n",
       "      <td>0.29</td>\n",
       "      <td>1</td>\n",
       "      <td>0</td>\n",
       "      <td>0</td>\n",
       "    </tr>\n",
       "    <tr>\n",
       "      <th>2011-11-25 05:00:00</th>\n",
       "      <td>11/25/2011 05:00:00</td>\n",
       "      <td>0.29</td>\n",
       "      <td>1</td>\n",
       "      <td>0</td>\n",
       "      <td>0</td>\n",
       "    </tr>\n",
       "  </tbody>\n",
       "</table>\n",
       "</div>"
      ],
      "text/plain": [
       "                                DateTime  Consumption kWh  Off-peak  Mid-peak  \\\n",
       "2011-11-25 01:00:00  11/25/2011 01:00:00             0.39         1         0   \n",
       "2011-11-25 02:00:00  11/25/2011 02:00:00             0.33         1         0   \n",
       "2011-11-25 03:00:00  11/25/2011 03:00:00             0.27         1         0   \n",
       "2011-11-25 04:00:00  11/25/2011 04:00:00             0.29         1         0   \n",
       "2011-11-25 05:00:00  11/25/2011 05:00:00             0.29         1         0   \n",
       "\n",
       "                     On-peak  \n",
       "2011-11-25 01:00:00        0  \n",
       "2011-11-25 02:00:00        0  \n",
       "2011-11-25 03:00:00        0  \n",
       "2011-11-25 04:00:00        0  \n",
       "2011-11-25 05:00:00        0  "
      ]
     },
     "execution_count": 4,
     "metadata": {},
     "output_type": "execute_result"
    }
   ],
   "source": [
    "data.head()"
   ]
  },
  {
   "cell_type": "code",
   "execution_count": 5,
   "metadata": {},
   "outputs": [],
   "source": [
    "data.drop(columns=['DateTime'],inplace=True)  ### the original datetime had missing values"
   ]
  },
  {
   "cell_type": "code",
   "execution_count": 6,
   "metadata": {},
   "outputs": [
    {
     "data": {
      "text/plain": [
       "DatetimeIndex(['2011-11-25 01:00:00', '2011-11-25 02:00:00',\n",
       "               '2011-11-25 03:00:00', '2011-11-25 04:00:00',\n",
       "               '2011-11-25 05:00:00', '2011-11-25 06:00:00',\n",
       "               '2011-11-25 07:00:00', '2011-11-25 08:00:00',\n",
       "               '2011-11-25 09:00:00', '2011-11-25 10:00:00',\n",
       "               ...\n",
       "               '2012-03-16 15:00:00', '2012-03-16 16:00:00',\n",
       "               '2012-03-16 17:00:00', '2012-03-16 18:00:00',\n",
       "               '2012-03-16 19:00:00', '2012-03-16 20:00:00',\n",
       "               '2012-03-16 21:00:00', '2012-03-16 22:00:00',\n",
       "               '2012-03-16 23:00:00', '2012-03-17 00:00:00'],\n",
       "              dtype='datetime64[ns]', length=2712, freq='H')"
      ]
     },
     "execution_count": 6,
     "metadata": {},
     "output_type": "execute_result"
    }
   ],
   "source": [
    "data.index"
   ]
  },
  {
   "cell_type": "code",
   "execution_count": 7,
   "metadata": {},
   "outputs": [
    {
     "data": {
      "text/html": [
       "<div>\n",
       "<style scoped>\n",
       "    .dataframe tbody tr th:only-of-type {\n",
       "        vertical-align: middle;\n",
       "    }\n",
       "\n",
       "    .dataframe tbody tr th {\n",
       "        vertical-align: top;\n",
       "    }\n",
       "\n",
       "    .dataframe thead th {\n",
       "        text-align: right;\n",
       "    }\n",
       "</style>\n",
       "<table border=\"1\" class=\"dataframe\">\n",
       "  <thead>\n",
       "    <tr style=\"text-align: right;\">\n",
       "      <th></th>\n",
       "      <th>Consumption kWh</th>\n",
       "      <th>Off-peak</th>\n",
       "      <th>Mid-peak</th>\n",
       "      <th>On-peak</th>\n",
       "    </tr>\n",
       "  </thead>\n",
       "  <tbody>\n",
       "    <tr>\n",
       "      <th>2011-11-25 01:00:00</th>\n",
       "      <td>0.39</td>\n",
       "      <td>1</td>\n",
       "      <td>0</td>\n",
       "      <td>0</td>\n",
       "    </tr>\n",
       "    <tr>\n",
       "      <th>2011-11-25 02:00:00</th>\n",
       "      <td>0.33</td>\n",
       "      <td>1</td>\n",
       "      <td>0</td>\n",
       "      <td>0</td>\n",
       "    </tr>\n",
       "    <tr>\n",
       "      <th>2011-11-25 03:00:00</th>\n",
       "      <td>0.27</td>\n",
       "      <td>1</td>\n",
       "      <td>0</td>\n",
       "      <td>0</td>\n",
       "    </tr>\n",
       "    <tr>\n",
       "      <th>2011-11-25 04:00:00</th>\n",
       "      <td>0.29</td>\n",
       "      <td>1</td>\n",
       "      <td>0</td>\n",
       "      <td>0</td>\n",
       "    </tr>\n",
       "    <tr>\n",
       "      <th>2011-11-25 05:00:00</th>\n",
       "      <td>0.29</td>\n",
       "      <td>1</td>\n",
       "      <td>0</td>\n",
       "      <td>0</td>\n",
       "    </tr>\n",
       "  </tbody>\n",
       "</table>\n",
       "</div>"
      ],
      "text/plain": [
       "                     Consumption kWh  Off-peak  Mid-peak  On-peak\n",
       "2011-11-25 01:00:00             0.39         1         0        0\n",
       "2011-11-25 02:00:00             0.33         1         0        0\n",
       "2011-11-25 03:00:00             0.27         1         0        0\n",
       "2011-11-25 04:00:00             0.29         1         0        0\n",
       "2011-11-25 05:00:00             0.29         1         0        0"
      ]
     },
     "execution_count": 7,
     "metadata": {},
     "output_type": "execute_result"
    }
   ],
   "source": [
    "data.head()"
   ]
  },
  {
   "cell_type": "code",
   "execution_count": 8,
   "metadata": {},
   "outputs": [],
   "source": [
    "training_data= data[:'2012-01-31 23:00:00']"
   ]
  },
  {
   "cell_type": "code",
   "execution_count": 9,
   "metadata": {},
   "outputs": [],
   "source": [
    "test_data=data['2012-02-01 00:00:00':]\n",
    "y_test= test_data.iloc[:,0].values"
   ]
  },
  {
   "cell_type": "code",
   "execution_count": 10,
   "metadata": {},
   "outputs": [
    {
     "name": "stderr",
     "output_type": "stream",
     "text": [
      "C:\\Users\\ACER M5\\Anaconda3\\envs\\tf-gpu\\lib\\site-packages\\ipykernel_launcher.py:4: SettingWithCopyWarning: \n",
      "A value is trying to be set on a copy of a slice from a DataFrame.\n",
      "Try using .loc[row_indexer,col_indexer] = value instead\n",
      "\n",
      "See the caveats in the documentation: http://pandas.pydata.org/pandas-docs/stable/indexing.html#indexing-view-versus-copy\n",
      "  after removing the cwd from sys.path.\n"
     ]
    }
   ],
   "source": [
    "from sklearn.preprocessing import MinMaxScaler\n",
    "sc= MinMaxScaler()\n",
    "var_1= np.array(training_data['Consumption kWh'])\n",
    "training_data['Consumption kWh']=sc.fit_transform(var_1.reshape(-1,1))"
   ]
  },
  {
   "cell_type": "code",
   "execution_count": 11,
   "metadata": {},
   "outputs": [],
   "source": [
    "x_train= training_data.iloc[0:-1].values\n",
    "y_train=training_data.iloc[1:,0].values"
   ]
  },
  {
   "cell_type": "code",
   "execution_count": 12,
   "metadata": {},
   "outputs": [],
   "source": [
    "x_train=x_train.reshape((-1,1,4))"
   ]
  },
  {
   "cell_type": "code",
   "execution_count": 13,
   "metadata": {},
   "outputs": [
    {
     "name": "stderr",
     "output_type": "stream",
     "text": [
      "Using TensorFlow backend.\n"
     ]
    }
   ],
   "source": [
    "from keras.models import Sequential\n",
    "from keras.layers import Dense\n",
    "from keras.layers import LSTM"
   ]
  },
  {
   "cell_type": "code",
   "execution_count": 14,
   "metadata": {},
   "outputs": [
    {
     "name": "stdout",
     "output_type": "stream",
     "text": [
      "WARNING:tensorflow:From C:\\Users\\ACER M5\\Anaconda3\\envs\\tf-gpu\\lib\\site-packages\\tensorflow\\python\\framework\\op_def_library.py:263: colocate_with (from tensorflow.python.framework.ops) is deprecated and will be removed in a future version.\n",
      "Instructions for updating:\n",
      "Colocations handled automatically by placer.\n"
     ]
    }
   ],
   "source": [
    "regressor= Sequential()\n",
    "regressor.add(LSTM(4,activation='relu'))\n",
    "regressor.add(Dense(1,activation='relu'))\n",
    "regressor.compile(optimizer='adam',loss='mean_squared_error',metrics=['MAE'])"
   ]
  },
  {
   "cell_type": "code",
   "execution_count": 15,
   "metadata": {},
   "outputs": [
    {
     "name": "stdout",
     "output_type": "stream",
     "text": [
      "WARNING:tensorflow:From C:\\Users\\ACER M5\\Anaconda3\\envs\\tf-gpu\\lib\\site-packages\\tensorflow\\python\\ops\\math_ops.py:3066: to_int32 (from tensorflow.python.ops.math_ops) is deprecated and will be removed in a future version.\n",
      "Instructions for updating:\n",
      "Use tf.cast instead.\n",
      "Epoch 1/200\n",
      "1630/1630 [==============================] - 5s 3ms/step - loss: 0.0104 - mean_absolute_error: 0.0560\n",
      "Epoch 2/200\n",
      "1630/1630 [==============================] - 1s 563us/step - loss: 0.0101 - mean_absolute_error: 0.0495\n",
      "Epoch 3/200\n",
      "1630/1630 [==============================] - 1s 568us/step - loss: 0.0100 - mean_absolute_error: 0.0476\n",
      "Epoch 4/200\n",
      "1630/1630 [==============================] - 1s 559us/step - loss: 0.0100 - mean_absolute_error: 0.0482 0s - loss: 0.0099 - mean_absolute_error: 0.04\n",
      "Epoch 5/200\n",
      "1630/1630 [==============================] - 1s 595us/step - loss: 0.0099 - mean_absolute_error: 0.0488\n",
      "Epoch 6/200\n",
      "1630/1630 [==============================] - 1s 586us/step - loss: 0.0099 - mean_absolute_error: 0.0481\n",
      "Epoch 7/200\n",
      "1630/1630 [==============================] - 1s 567us/step - loss: 0.0098 - mean_absolute_error: 0.0485\n",
      "Epoch 8/200\n",
      "1630/1630 [==============================] - 1s 654us/step - loss: 0.0098 - mean_absolute_error: 0.0461\n",
      "Epoch 9/200\n",
      "1630/1630 [==============================] - 1s 573us/step - loss: 0.0097 - mean_absolute_error: 0.0487\n",
      "Epoch 10/200\n",
      "1630/1630 [==============================] - 1s 570us/step - loss: 0.0097 - mean_absolute_error: 0.0469\n",
      "Epoch 11/200\n",
      "1630/1630 [==============================] - 1s 578us/step - loss: 0.0097 - mean_absolute_error: 0.0471\n",
      "Epoch 12/200\n",
      "1630/1630 [==============================] - 1s 576us/step - loss: 0.0096 - mean_absolute_error: 0.0481\n",
      "Epoch 13/200\n",
      "1630/1630 [==============================] - 1s 559us/step - loss: 0.0096 - mean_absolute_error: 0.0465\n",
      "Epoch 14/200\n",
      "1630/1630 [==============================] - 1s 600us/step - loss: 0.0096 - mean_absolute_error: 0.0481\n",
      "Epoch 15/200\n",
      "1630/1630 [==============================] - 1s 595us/step - loss: 0.0096 - mean_absolute_error: 0.0473\n",
      "Epoch 16/200\n",
      "1630/1630 [==============================] - 1s 597us/step - loss: 0.0095 - mean_absolute_error: 0.0457\n",
      "Epoch 17/200\n",
      "1630/1630 [==============================] - 1s 615us/step - loss: 0.0095 - mean_absolute_error: 0.0478 0s - loss: 0.0087 - mean_absolute_e\n",
      "Epoch 18/200\n",
      "1630/1630 [==============================] - 1s 587us/step - loss: 0.0095 - mean_absolute_error: 0.0464 0s - loss: 0.0099 - mean_absolute_error: 0.0\n",
      "Epoch 19/200\n",
      "1630/1630 [==============================] - 1s 593us/step - loss: 0.0095 - mean_absolute_error: 0.0461 0s - loss: 0.0085 - mean_absolu\n",
      "Epoch 20/200\n",
      "1630/1630 [==============================] - 1s 582us/step - loss: 0.0095 - mean_absolute_error: 0.0477\n",
      "Epoch 21/200\n",
      "1630/1630 [==============================] - 1s 591us/step - loss: 0.0095 - mean_absolute_error: 0.0465\n",
      "Epoch 22/200\n",
      "1630/1630 [==============================] - 1s 610us/step - loss: 0.0094 - mean_absolute_error: 0.0455\n",
      "Epoch 23/200\n",
      "1630/1630 [==============================] - 1s 635us/step - loss: 0.0094 - mean_absolute_error: 0.0461\n",
      "Epoch 24/200\n",
      "1630/1630 [==============================] - 1s 593us/step - loss: 0.0094 - mean_absolute_error: 0.0468\n",
      "Epoch 25/200\n",
      "1630/1630 [==============================] - 1s 616us/step - loss: 0.0094 - mean_absolute_error: 0.0466 0s - loss: 0.0096 - mean_absolute_error: \n",
      "Epoch 26/200\n",
      "1630/1630 [==============================] - 1s 623us/step - loss: 0.0094 - mean_absolute_error: 0.0451\n",
      "Epoch 27/200\n",
      "1630/1630 [==============================] - 1s 618us/step - loss: 0.0094 - mean_absolute_error: 0.0466\n",
      "Epoch 28/200\n",
      "1630/1630 [==============================] - 1s 609us/step - loss: 0.0094 - mean_absolute_error: 0.0466\n",
      "Epoch 29/200\n",
      "1630/1630 [==============================] - 1s 599us/step - loss: 0.0094 - mean_absolute_error: 0.0464\n",
      "Epoch 30/200\n",
      "1630/1630 [==============================] - 1s 628us/step - loss: 0.0094 - mean_absolute_error: 0.0451\n",
      "Epoch 31/200\n",
      "1630/1630 [==============================] - 1s 576us/step - loss: 0.0094 - mean_absolute_error: 0.0457\n",
      "Epoch 32/200\n",
      "1630/1630 [==============================] - 1s 628us/step - loss: 0.0094 - mean_absolute_error: 0.0462\n",
      "Epoch 33/200\n",
      "1630/1630 [==============================] - 1s 606us/step - loss: 0.0094 - mean_absolute_error: 0.0459\n",
      "Epoch 34/200\n",
      "1630/1630 [==============================] - 1s 606us/step - loss: 0.0094 - mean_absolute_error: 0.0463\n",
      "Epoch 35/200\n",
      "1630/1630 [==============================] - 1s 616us/step - loss: 0.0094 - mean_absolute_error: 0.0460\n",
      "Epoch 36/200\n",
      "1630/1630 [==============================] - 1s 609us/step - loss: 0.0093 - mean_absolute_error: 0.0447\n",
      "Epoch 37/200\n",
      "1630/1630 [==============================] - 1s 639us/step - loss: 0.0094 - mean_absolute_error: 0.0463\n",
      "Epoch 38/200\n",
      "1630/1630 [==============================] - 1s 603us/step - loss: 0.0094 - mean_absolute_error: 0.0463\n",
      "Epoch 39/200\n",
      "1630/1630 [==============================] - 1s 619us/step - loss: 0.0093 - mean_absolute_error: 0.0447\n",
      "Epoch 40/200\n",
      "1630/1630 [==============================] - 1s 609us/step - loss: 0.0094 - mean_absolute_error: 0.0462\n",
      "Epoch 41/200\n",
      "1630/1630 [==============================] - 1s 614us/step - loss: 0.0093 - mean_absolute_error: 0.0471\n",
      "Epoch 42/200\n",
      "1630/1630 [==============================] - 1s 606us/step - loss: 0.0093 - mean_absolute_error: 0.0445\n",
      "Epoch 43/200\n",
      "1630/1630 [==============================] - 1s 603us/step - loss: 0.0093 - mean_absolute_error: 0.0454\n",
      "Epoch 44/200\n",
      "1630/1630 [==============================] - 1s 600us/step - loss: 0.0094 - mean_absolute_error: 0.0452\n",
      "Epoch 45/200\n",
      "1630/1630 [==============================] - 1s 614us/step - loss: 0.0093 - mean_absolute_error: 0.0457\n",
      "Epoch 46/200\n",
      "1630/1630 [==============================] - 1s 610us/step - loss: 0.0093 - mean_absolute_error: 0.0460\n",
      "Epoch 47/200\n",
      "1630/1630 [==============================] - 1s 625us/step - loss: 0.0093 - mean_absolute_error: 0.0461\n",
      "Epoch 48/200\n",
      "1630/1630 [==============================] - 1s 610us/step - loss: 0.0093 - mean_absolute_error: 0.0452\n",
      "Epoch 49/200\n",
      "1630/1630 [==============================] - 1s 614us/step - loss: 0.0093 - mean_absolute_error: 0.0459\n",
      "Epoch 50/200\n",
      "1630/1630 [==============================] - 1s 605us/step - loss: 0.0093 - mean_absolute_error: 0.0454\n",
      "Epoch 51/200\n",
      "1630/1630 [==============================] - 1s 595us/step - loss: 0.0093 - mean_absolute_error: 0.0452\n",
      "Epoch 52/200\n",
      "1630/1630 [==============================] - 1s 625us/step - loss: 0.0093 - mean_absolute_error: 0.0454\n",
      "Epoch 53/200\n",
      "1630/1630 [==============================] - 1s 596us/step - loss: 0.0093 - mean_absolute_error: 0.0459\n",
      "Epoch 54/200\n",
      "1630/1630 [==============================] - 1s 609us/step - loss: 0.0093 - mean_absolute_error: 0.0448\n",
      "Epoch 55/200\n",
      "1630/1630 [==============================] - 1s 599us/step - loss: 0.0093 - mean_absolute_error: 0.0462\n",
      "Epoch 56/200\n",
      "1630/1630 [==============================] - 1s 617us/step - loss: 0.0093 - mean_absolute_error: 0.0458 0s - loss: 0.0080 - mean_absolute_\n",
      "Epoch 57/200\n",
      "1630/1630 [==============================] - 1s 630us/step - loss: 0.0093 - mean_absolute_error: 0.0448\n",
      "Epoch 58/200\n",
      "1630/1630 [==============================] - 1s 620us/step - loss: 0.0093 - mean_absolute_error: 0.0464 0s - loss: 0.0096 - mean_absolute_err\n",
      "Epoch 59/200\n",
      "1630/1630 [==============================] - 1s 600us/step - loss: 0.0093 - mean_absolute_error: 0.0449\n",
      "Epoch 60/200\n",
      "1630/1630 [==============================] - 1s 608us/step - loss: 0.0093 - mean_absolute_error: 0.0465\n",
      "Epoch 61/200\n",
      "1630/1630 [==============================] - 1s 600us/step - loss: 0.0093 - mean_absolute_error: 0.0442\n",
      "Epoch 62/200\n",
      "1630/1630 [==============================] - 1s 604us/step - loss: 0.0093 - mean_absolute_error: 0.0453\n",
      "Epoch 63/200\n",
      "1630/1630 [==============================] - 1s 600us/step - loss: 0.0093 - mean_absolute_error: 0.0453\n",
      "Epoch 64/200\n",
      "1630/1630 [==============================] - 1s 611us/step - loss: 0.0093 - mean_absolute_error: 0.0470\n",
      "Epoch 65/200\n",
      "1630/1630 [==============================] - 1s 614us/step - loss: 0.0093 - mean_absolute_error: 0.0438\n",
      "Epoch 66/200\n"
     ]
    },
    {
     "name": "stdout",
     "output_type": "stream",
     "text": [
      "1630/1630 [==============================] - 1s 557us/step - loss: 0.0093 - mean_absolute_error: 0.0465 0s - loss: 0.0091 - mean_absolute_erro\n",
      "Epoch 67/200\n",
      "1630/1630 [==============================] - 1s 571us/step - loss: 0.0093 - mean_absolute_error: 0.0438\n",
      "Epoch 68/200\n",
      "1630/1630 [==============================] - 1s 541us/step - loss: 0.0093 - mean_absolute_error: 0.0472\n",
      "Epoch 69/200\n",
      "1630/1630 [==============================] - 1s 545us/step - loss: 0.0093 - mean_absolute_error: 0.0437\n",
      "Epoch 70/200\n",
      "1630/1630 [==============================] - 1s 537us/step - loss: 0.0093 - mean_absolute_error: 0.0461\n",
      "Epoch 71/200\n",
      "1630/1630 [==============================] - 1s 555us/step - loss: 0.0093 - mean_absolute_error: 0.0452\n",
      "Epoch 72/200\n",
      "1630/1630 [==============================] - 1s 547us/step - loss: 0.0093 - mean_absolute_error: 0.0460\n",
      "Epoch 73/200\n",
      "1630/1630 [==============================] - 1s 568us/step - loss: 0.0093 - mean_absolute_error: 0.0449\n",
      "Epoch 74/200\n",
      "1630/1630 [==============================] - 1s 552us/step - loss: 0.0093 - mean_absolute_error: 0.0452\n",
      "Epoch 75/200\n",
      "1630/1630 [==============================] - 1s 527us/step - loss: 0.0093 - mean_absolute_error: 0.0458\n",
      "Epoch 76/200\n",
      "1630/1630 [==============================] - 1s 755us/step - loss: 0.0093 - mean_absolute_error: 0.0451 0s - loss: 0.0099 - mean_absolute_error: 0.0\n",
      "Epoch 77/200\n",
      "1630/1630 [==============================] - 1s 607us/step - loss: 0.0093 - mean_absolute_error: 0.0460\n",
      "Epoch 78/200\n",
      "1630/1630 [==============================] - 1s 569us/step - loss: 0.0093 - mean_absolute_error: 0.0442\n",
      "Epoch 79/200\n",
      "1630/1630 [==============================] - ETA: 0s - loss: 0.0091 - mean_absolute_error: 0.045 - 1s 565us/step - loss: 0.0093 - mean_absolute_error: 0.0462\n",
      "Epoch 80/200\n",
      "1630/1630 [==============================] - 1s 572us/step - loss: 0.0093 - mean_absolute_error: 0.0448\n",
      "Epoch 81/200\n",
      "1630/1630 [==============================] - 1s 581us/step - loss: 0.0093 - mean_absolute_error: 0.0453\n",
      "Epoch 82/200\n",
      "1630/1630 [==============================] - 1s 557us/step - loss: 0.0093 - mean_absolute_error: 0.0458\n",
      "Epoch 83/200\n",
      "1630/1630 [==============================] - 1s 622us/step - loss: 0.0093 - mean_absolute_error: 0.0455\n",
      "Epoch 84/200\n",
      "1630/1630 [==============================] - 1s 557us/step - loss: 0.0093 - mean_absolute_error: 0.0454\n",
      "Epoch 85/200\n",
      "1630/1630 [==============================] - 1s 562us/step - loss: 0.0093 - mean_absolute_error: 0.0447\n",
      "Epoch 86/200\n",
      "1630/1630 [==============================] - 1s 591us/step - loss: 0.0093 - mean_absolute_error: 0.0448\n",
      "Epoch 87/200\n",
      "1630/1630 [==============================] - 1s 567us/step - loss: 0.0093 - mean_absolute_error: 0.0450\n",
      "Epoch 88/200\n",
      "1630/1630 [==============================] - 1s 597us/step - loss: 0.0093 - mean_absolute_error: 0.0467\n",
      "Epoch 89/200\n",
      "1630/1630 [==============================] - 1s 577us/step - loss: 0.0093 - mean_absolute_error: 0.0451\n",
      "Epoch 90/200\n",
      "1630/1630 [==============================] - 1s 576us/step - loss: 0.0093 - mean_absolute_error: 0.0459\n",
      "Epoch 91/200\n",
      "1630/1630 [==============================] - 1s 770us/step - loss: 0.0093 - mean_absolute_error: 0.0438\n",
      "Epoch 92/200\n",
      "1630/1630 [==============================] - 1s 580us/step - loss: 0.0093 - mean_absolute_error: 0.0460\n",
      "Epoch 93/200\n",
      "1630/1630 [==============================] - 1s 615us/step - loss: 0.0093 - mean_absolute_error: 0.0442\n",
      "Epoch 94/200\n",
      "1630/1630 [==============================] - 1s 584us/step - loss: 0.0093 - mean_absolute_error: 0.0470\n",
      "Epoch 95/200\n",
      "1630/1630 [==============================] - 1s 570us/step - loss: 0.0093 - mean_absolute_error: 0.0447 0s - loss: 0.0069 - mean_absolute_e\n",
      "Epoch 96/200\n",
      "1630/1630 [==============================] - 1s 632us/step - loss: 0.0093 - mean_absolute_error: 0.0447\n",
      "Epoch 97/200\n",
      "1630/1630 [==============================] - 1s 587us/step - loss: 0.0093 - mean_absolute_error: 0.0456\n",
      "Epoch 98/200\n",
      "1630/1630 [==============================] - 1s 618us/step - loss: 0.0093 - mean_absolute_error: 0.0448\n",
      "Epoch 99/200\n",
      "1630/1630 [==============================] - 1s 590us/step - loss: 0.0093 - mean_absolute_error: 0.0453\n",
      "Epoch 100/200\n",
      "1630/1630 [==============================] - 1s 590us/step - loss: 0.0093 - mean_absolute_error: 0.0458\n",
      "Epoch 101/200\n",
      "1630/1630 [==============================] - 1s 676us/step - loss: 0.0093 - mean_absolute_error: 0.0455\n",
      "Epoch 102/200\n",
      "1630/1630 [==============================] - 1s 719us/step - loss: 0.0093 - mean_absolute_error: 0.0453\n",
      "Epoch 103/200\n",
      "1630/1630 [==============================] - 1s 647us/step - loss: 0.0093 - mean_absolute_error: 0.0451\n",
      "Epoch 104/200\n",
      "1630/1630 [==============================] - 1s 586us/step - loss: 0.0093 - mean_absolute_error: 0.0454 0s - loss: 0.0091 - mean_absolute_error: 0.04\n",
      "Epoch 105/200\n",
      "1630/1630 [==============================] - 1s 578us/step - loss: 0.0093 - mean_absolute_error: 0.0443\n",
      "Epoch 106/200\n",
      "1630/1630 [==============================] - 1s 597us/step - loss: 0.0093 - mean_absolute_error: 0.0454\n",
      "Epoch 107/200\n",
      "1630/1630 [==============================] - 1s 582us/step - loss: 0.0093 - mean_absolute_error: 0.0462\n",
      "Epoch 108/200\n",
      "1630/1630 [==============================] - 1s 610us/step - loss: 0.0093 - mean_absolute_error: 0.0437\n",
      "Epoch 109/200\n",
      "1630/1630 [==============================] - 1s 583us/step - loss: 0.0093 - mean_absolute_error: 0.0453\n",
      "Epoch 110/200\n",
      "1630/1630 [==============================] - 1s 611us/step - loss: 0.0093 - mean_absolute_error: 0.0455 0s - loss: 0.0093 - mean_absolute_e\n",
      "Epoch 111/200\n",
      "1630/1630 [==============================] - 1s 612us/step - loss: 0.0093 - mean_absolute_error: 0.0445\n",
      "Epoch 112/200\n",
      "1630/1630 [==============================] - 1s 611us/step - loss: 0.0093 - mean_absolute_error: 0.0463\n",
      "Epoch 113/200\n",
      "1630/1630 [==============================] - 1s 649us/step - loss: 0.0093 - mean_absolute_error: 0.0463\n",
      "Epoch 114/200\n",
      "1630/1630 [==============================] - 1s 597us/step - loss: 0.0093 - mean_absolute_error: 0.0446\n",
      "Epoch 115/200\n",
      "1630/1630 [==============================] - 1s 614us/step - loss: 0.0093 - mean_absolute_error: 0.0447\n",
      "Epoch 116/200\n",
      "1630/1630 [==============================] - 1s 593us/step - loss: 0.0093 - mean_absolute_error: 0.0456\n",
      "Epoch 117/200\n",
      "1630/1630 [==============================] - 1s 605us/step - loss: 0.0093 - mean_absolute_error: 0.0458\n",
      "Epoch 118/200\n",
      "1630/1630 [==============================] - ETA: 0s - loss: 0.0088 - mean_absolute_error: 0.043 - 1s 630us/step - loss: 0.0093 - mean_absolute_error: 0.0438\n",
      "Epoch 119/200\n",
      "1630/1630 [==============================] - 1s 619us/step - loss: 0.0093 - mean_absolute_error: 0.0450\n",
      "Epoch 120/200\n",
      "1630/1630 [==============================] - 1s 614us/step - loss: 0.0093 - mean_absolute_error: 0.0457 0s - loss: 0.0132 - mean_absolut\n",
      "Epoch 121/200\n",
      "1630/1630 [==============================] - 1s 609us/step - loss: 0.0093 - mean_absolute_error: 0.0445\n",
      "Epoch 122/200\n",
      "1630/1630 [==============================] - 1s 606us/step - loss: 0.0093 - mean_absolute_error: 0.0467\n",
      "Epoch 123/200\n",
      "1630/1630 [==============================] - 1s 616us/step - loss: 0.0093 - mean_absolute_error: 0.0440\n",
      "Epoch 124/200\n",
      "1630/1630 [==============================] - 1s 601us/step - loss: 0.0093 - mean_absolute_error: 0.0461 0s - loss: 0.0110 - mean_absolute_e\n",
      "Epoch 125/200\n",
      "1630/1630 [==============================] - 1s 595us/step - loss: 0.0093 - mean_absolute_error: 0.0452\n",
      "Epoch 126/200\n",
      "1630/1630 [==============================] - 1s 609us/step - loss: 0.0093 - mean_absolute_error: 0.0444\n",
      "Epoch 127/200\n",
      "1630/1630 [==============================] - 1s 606us/step - loss: 0.0092 - mean_absolute_error: 0.0447\n",
      "Epoch 128/200\n",
      "1630/1630 [==============================] - 1s 618us/step - loss: 0.0093 - mean_absolute_error: 0.0450\n",
      "Epoch 129/200\n",
      "1630/1630 [==============================] - 1s 601us/step - loss: 0.0093 - mean_absolute_error: 0.0447\n",
      "Epoch 130/200\n",
      "1630/1630 [==============================] - 1s 619us/step - loss: 0.0092 - mean_absolute_error: 0.0470\n",
      "Epoch 131/200\n",
      "1630/1630 [==============================] - 1s 619us/step - loss: 0.0093 - mean_absolute_error: 0.0436\n",
      "Epoch 132/200\n"
     ]
    },
    {
     "name": "stdout",
     "output_type": "stream",
     "text": [
      "1630/1630 [==============================] - 1s 548us/step - loss: 0.0093 - mean_absolute_error: 0.0453\n",
      "Epoch 133/200\n",
      "1630/1630 [==============================] - 1s 552us/step - loss: 0.0093 - mean_absolute_error: 0.0456\n",
      "Epoch 134/200\n",
      "1630/1630 [==============================] - 1s 546us/step - loss: 0.0092 - mean_absolute_error: 0.0446\n",
      "Epoch 135/200\n",
      "1630/1630 [==============================] - 1s 535us/step - loss: 0.0092 - mean_absolute_error: 0.0447\n",
      "Epoch 136/200\n",
      "1630/1630 [==============================] - 1s 540us/step - loss: 0.0093 - mean_absolute_error: 0.0457\n",
      "Epoch 137/200\n",
      "1630/1630 [==============================] - 1s 553us/step - loss: 0.0092 - mean_absolute_error: 0.0451\n",
      "Epoch 138/200\n",
      "1630/1630 [==============================] - 1s 542us/step - loss: 0.0093 - mean_absolute_error: 0.0457\n",
      "Epoch 139/200\n",
      "1630/1630 [==============================] - 1s 546us/step - loss: 0.0092 - mean_absolute_error: 0.0450\n",
      "Epoch 140/200\n",
      "1630/1630 [==============================] - 1s 560us/step - loss: 0.0092 - mean_absolute_error: 0.0447\n",
      "Epoch 141/200\n",
      "1630/1630 [==============================] - 1s 550us/step - loss: 0.0092 - mean_absolute_error: 0.0447\n",
      "Epoch 142/200\n",
      "1630/1630 [==============================] - 1s 551us/step - loss: 0.0092 - mean_absolute_error: 0.0443\n",
      "Epoch 143/200\n",
      "1630/1630 [==============================] - 1s 555us/step - loss: 0.0092 - mean_absolute_error: 0.0464\n",
      "Epoch 144/200\n",
      "1630/1630 [==============================] - 1s 557us/step - loss: 0.0092 - mean_absolute_error: 0.0438\n",
      "Epoch 145/200\n",
      "1630/1630 [==============================] - 1s 559us/step - loss: 0.0092 - mean_absolute_error: 0.0456\n",
      "Epoch 146/200\n",
      "1630/1630 [==============================] - 1s 562us/step - loss: 0.0092 - mean_absolute_error: 0.0439\n",
      "Epoch 147/200\n",
      "1630/1630 [==============================] - 1s 569us/step - loss: 0.0092 - mean_absolute_error: 0.0456\n",
      "Epoch 148/200\n",
      "1630/1630 [==============================] - 1s 573us/step - loss: 0.0092 - mean_absolute_error: 0.0455\n",
      "Epoch 149/200\n",
      "1630/1630 [==============================] - 1s 573us/step - loss: 0.0092 - mean_absolute_error: 0.0455\n",
      "Epoch 150/200\n",
      "1630/1630 [==============================] - 1s 604us/step - loss: 0.0092 - mean_absolute_error: 0.0437\n",
      "Epoch 151/200\n",
      "1630/1630 [==============================] - 1s 574us/step - loss: 0.0092 - mean_absolute_error: 0.0456\n",
      "Epoch 152/200\n",
      "1630/1630 [==============================] - 1s 688us/step - loss: 0.0092 - mean_absolute_error: 0.0448\n",
      "Epoch 153/200\n",
      "1630/1630 [==============================] - 1s 592us/step - loss: 0.0092 - mean_absolute_error: 0.0450\n",
      "Epoch 154/200\n",
      "1630/1630 [==============================] - 1s 638us/step - loss: 0.0092 - mean_absolute_error: 0.0449\n",
      "Epoch 155/200\n",
      "1630/1630 [==============================] - 1s 592us/step - loss: 0.0092 - mean_absolute_error: 0.0447\n",
      "Epoch 156/200\n",
      "1630/1630 [==============================] - 1s 595us/step - loss: 0.0092 - mean_absolute_error: 0.0453\n",
      "Epoch 157/200\n",
      "1630/1630 [==============================] - 1s 571us/step - loss: 0.0092 - mean_absolute_error: 0.0438\n",
      "Epoch 158/200\n",
      "1630/1630 [==============================] - 1s 590us/step - loss: 0.0092 - mean_absolute_error: 0.0450\n",
      "Epoch 159/200\n",
      "1630/1630 [==============================] - 1s 576us/step - loss: 0.0092 - mean_absolute_error: 0.0458\n",
      "Epoch 160/200\n",
      "1630/1630 [==============================] - 1s 626us/step - loss: 0.0092 - mean_absolute_error: 0.0453\n",
      "Epoch 161/200\n",
      "1630/1630 [==============================] - 1s 555us/step - loss: 0.0092 - mean_absolute_error: 0.0440\n",
      "Epoch 162/200\n",
      "1630/1630 [==============================] - 1s 609us/step - loss: 0.0092 - mean_absolute_error: 0.0443\n",
      "Epoch 163/200\n",
      "1630/1630 [==============================] - 1s 587us/step - loss: 0.0092 - mean_absolute_error: 0.0451\n",
      "Epoch 164/200\n",
      "1630/1630 [==============================] - 1s 580us/step - loss: 0.0092 - mean_absolute_error: 0.0452\n",
      "Epoch 165/200\n",
      "1630/1630 [==============================] - 1s 579us/step - loss: 0.0092 - mean_absolute_error: 0.0441 0s - loss: 0.0079 - mean_absolute_error:\n",
      "Epoch 166/200\n",
      "1630/1630 [==============================] - 1s 622us/step - loss: 0.0092 - mean_absolute_error: 0.0467\n",
      "Epoch 167/200\n",
      "1630/1630 [==============================] - 1s 568us/step - loss: 0.0092 - mean_absolute_error: 0.0435\n",
      "Epoch 168/200\n",
      "1630/1630 [==============================] - 1s 573us/step - loss: 0.0092 - mean_absolute_error: 0.0451\n",
      "Epoch 169/200\n",
      "1630/1630 [==============================] - 1s 581us/step - loss: 0.0092 - mean_absolute_error: 0.0444\n",
      "Epoch 170/200\n",
      "1630/1630 [==============================] - 1s 610us/step - loss: 0.0092 - mean_absolute_error: 0.0447 0s - loss: 0.0090 - mean_absolute_\n",
      "Epoch 171/200\n",
      "1630/1630 [==============================] - 1s 634us/step - loss: 0.0092 - mean_absolute_error: 0.0456 0s - loss: 0.0114 - mean_absolute_err\n",
      "Epoch 172/200\n",
      "1630/1630 [==============================] - 1s 603us/step - loss: 0.0092 - mean_absolute_error: 0.0452\n",
      "Epoch 173/200\n",
      "1630/1630 [==============================] - 1s 603us/step - loss: 0.0092 - mean_absolute_error: 0.0441\n",
      "Epoch 174/200\n",
      "1630/1630 [==============================] - 1s 598us/step - loss: 0.0092 - mean_absolute_error: 0.0451\n",
      "Epoch 175/200\n",
      "1630/1630 [==============================] - 1s 600us/step - loss: 0.0092 - mean_absolute_error: 0.0447\n",
      "Epoch 176/200\n",
      "1630/1630 [==============================] - 1s 641us/step - loss: 0.0092 - mean_absolute_error: 0.0440\n",
      "Epoch 177/200\n",
      "1630/1630 [==============================] - 1s 601us/step - loss: 0.0092 - mean_absolute_error: 0.0458\n",
      "Epoch 178/200\n",
      "1630/1630 [==============================] - 1s 613us/step - loss: 0.0092 - mean_absolute_error: 0.0445\n",
      "Epoch 179/200\n",
      "1630/1630 [==============================] - 1s 569us/step - loss: 0.0092 - mean_absolute_error: 0.0444\n",
      "Epoch 180/200\n",
      "1630/1630 [==============================] - 1s 586us/step - loss: 0.0091 - mean_absolute_error: 0.0445\n",
      "Epoch 181/200\n",
      "1630/1630 [==============================] - 1s 624us/step - loss: 0.0092 - mean_absolute_error: 0.0443\n",
      "Epoch 182/200\n",
      "1630/1630 [==============================] - 1s 605us/step - loss: 0.0092 - mean_absolute_error: 0.0449\n",
      "Epoch 183/200\n",
      "1630/1630 [==============================] - 1s 606us/step - loss: 0.0092 - mean_absolute_error: 0.0457\n",
      "Epoch 184/200\n",
      "1630/1630 [==============================] - 1s 611us/step - loss: 0.0092 - mean_absolute_error: 0.0447\n",
      "Epoch 185/200\n",
      "1630/1630 [==============================] - 1s 611us/step - loss: 0.0091 - mean_absolute_error: 0.0442\n",
      "Epoch 186/200\n",
      "1630/1630 [==============================] - 1s 614us/step - loss: 0.0091 - mean_absolute_error: 0.0448\n",
      "Epoch 187/200\n",
      "1630/1630 [==============================] - 1s 597us/step - loss: 0.0091 - mean_absolute_error: 0.0442\n",
      "Epoch 188/200\n",
      "1630/1630 [==============================] - 1s 607us/step - loss: 0.0092 - mean_absolute_error: 0.0447\n",
      "Epoch 189/200\n",
      "1630/1630 [==============================] - 1s 587us/step - loss: 0.0091 - mean_absolute_error: 0.0443\n",
      "Epoch 190/200\n",
      "1630/1630 [==============================] - 1s 606us/step - loss: 0.0091 - mean_absolute_error: 0.0455\n",
      "Epoch 191/200\n",
      "1630/1630 [==============================] - 1s 627us/step - loss: 0.0091 - mean_absolute_error: 0.0445\n",
      "Epoch 192/200\n",
      "1630/1630 [==============================] - 1s 613us/step - loss: 0.0091 - mean_absolute_error: 0.0452\n",
      "Epoch 193/200\n",
      "1630/1630 [==============================] - 1s 755us/step - loss: 0.0091 - mean_absolute_error: 0.0438\n",
      "Epoch 194/200\n",
      "1630/1630 [==============================] - 1s 633us/step - loss: 0.0091 - mean_absolute_error: 0.0444 0s - loss: 0.0085 - mean_absolute_error: \n",
      "Epoch 195/200\n",
      "1630/1630 [==============================] - 1s 632us/step - loss: 0.0091 - mean_absolute_error: 0.0442\n",
      "Epoch 196/200\n",
      "1630/1630 [==============================] - 1s 647us/step - loss: 0.0091 - mean_absolute_error: 0.0450\n",
      "Epoch 197/200\n",
      "1630/1630 [==============================] - 1s 620us/step - loss: 0.0091 - mean_absolute_error: 0.0434\n",
      "Epoch 198/200\n",
      "1630/1630 [==============================] - 1s 620us/step - loss: 0.0091 - mean_absolute_error: 0.0456\n",
      "Epoch 199/200\n",
      "1630/1630 [==============================] - 1s 613us/step - loss: 0.0091 - mean_absolute_error: 0.0446\n",
      "Epoch 200/200\n"
     ]
    },
    {
     "name": "stdout",
     "output_type": "stream",
     "text": [
      "1630/1630 [==============================] - 1s 555us/step - loss: 0.0091 - mean_absolute_error: 0.0442\n"
     ]
    },
    {
     "data": {
      "text/plain": [
       "<keras.callbacks.History at 0x1cdbfd73f60>"
      ]
     },
     "execution_count": 15,
     "metadata": {},
     "output_type": "execute_result"
    }
   ],
   "source": [
    "regressor.fit(x_train,y_train,batch_size=32,epochs=200)      ### 200 minimum required for convergence"
   ]
  },
  {
   "cell_type": "code",
   "execution_count": 16,
   "metadata": {},
   "outputs": [
    {
     "name": "stderr",
     "output_type": "stream",
     "text": [
      "C:\\Users\\ACER M5\\Anaconda3\\envs\\tf-gpu\\lib\\site-packages\\ipykernel_launcher.py:3: SettingWithCopyWarning: \n",
      "A value is trying to be set on a copy of a slice from a DataFrame.\n",
      "Try using .loc[row_indexer,col_indexer] = value instead\n",
      "\n",
      "See the caveats in the documentation: http://pandas.pydata.org/pandas-docs/stable/indexing.html#indexing-view-versus-copy\n",
      "  This is separate from the ipykernel package so we can avoid doing imports until\n"
     ]
    }
   ],
   "source": [
    "sc_1=MinMaxScaler()\n",
    "var_2= np.array(test_data['Consumption kWh'])\n",
    "test_data['Consumption kWh']=sc_1.fit_transform(var_2.reshape(-1,1))"
   ]
  },
  {
   "cell_type": "code",
   "execution_count": 17,
   "metadata": {},
   "outputs": [],
   "source": [
    "test_data=test_data.values\n",
    "test_data=test_data.reshape((-1,1,4))\n",
    "y_test=sc_1.inverse_transform(y_test.reshape(-1,1))"
   ]
  },
  {
   "cell_type": "code",
   "execution_count": 18,
   "metadata": {},
   "outputs": [],
   "source": [
    "predicted_values=regressor.predict(test_data)"
   ]
  },
  {
   "cell_type": "code",
   "execution_count": 19,
   "metadata": {},
   "outputs": [
    {
     "data": {
      "text/plain": [
       "array([[0.06249023],\n",
       "       [0.0606397 ],\n",
       "       [0.05567632],\n",
       "       ...,\n",
       "       [0.06310577],\n",
       "       [0.05692107],\n",
       "       [0.05380432]], dtype=float32)"
      ]
     },
     "execution_count": 19,
     "metadata": {},
     "output_type": "execute_result"
    }
   ],
   "source": [
    "predicted_values"
   ]
  },
  {
   "cell_type": "code",
   "execution_count": 20,
   "metadata": {},
   "outputs": [],
   "source": [
    "original_predicted_values= sc_1.inverse_transform(predicted_values)"
   ]
  },
  {
   "cell_type": "code",
   "execution_count": 21,
   "metadata": {},
   "outputs": [
    {
     "data": {
      "text/plain": [
       "array([[0.5655741 ],\n",
       "       [0.5559328 ],\n",
       "       [0.5300736 ],\n",
       "       ...,\n",
       "       [0.568781  ],\n",
       "       [0.53655875],\n",
       "       [0.5203205 ]], dtype=float32)"
      ]
     },
     "execution_count": 21,
     "metadata": {},
     "output_type": "execute_result"
    }
   ],
   "source": [
    "original_predicted_values"
   ]
  },
  {
   "cell_type": "code",
   "execution_count": 26,
   "metadata": {},
   "outputs": [
    {
     "data": {
      "image/png": "[encoded data removed]",
      "text/plain": [
       "<Figure size 432x288 with 1 Axes>"
      ]
     },
     "metadata": {
      "needs_background": "light"
     },
     "output_type": "display_data"
    }
   ],
   "source": [
    "plt.plot(y_test,color='red',label='Real Consumption for final 3 months')\n",
    "plt.Figure(figsize=(20,20))\n",
    "plt.plot(original_predicted_values,color='blue',label='Predicted Consumption for final 3 months')\n",
    "plt.title('Electricity Consumtion of an area')\n",
    "plt.show()\n"
   ]
  },
  {
   "cell_type": "code",
   "execution_count": 27,
   "metadata": {},
   "outputs": [],
   "source": [
    "import math\n",
    "from sklearn.metrics import mean_squared_error\n",
    "rmse= math.sqrt(mean_squared_error(y_test,original_predicted_values))\n",
    "result= np.mean(rmse)\n",
    "                "
   ]
  },
  {
   "cell_type": "code",
   "execution_count": 28,
   "metadata": {},
   "outputs": [
    {
     "data": {
      "text/plain": [
       "0.3893995136580415"
      ]
     },
     "execution_count": 28,
     "metadata": {},
     "output_type": "execute_result"
    }
   ],
   "source": [
    "result\n"
   ]
  },
  {
   "cell_type": "code",
   "execution_count": null,
   "metadata": {},
   "outputs": [],
   "source": []
  }
 ],
 "metadata": {
  "kernelspec": {
   "display_name": "tf-gpu",
   "language": "python",
   "name": "tf-gpu"
  },
  "language_info": {
   "codemirror_mode": {
    "name": "ipython",
    "version": 3
   },
   "file_extension": ".py",
   "mimetype": "text/x-python",
   "name": "python",
   "nbconvert_exporter": "python",
   "pygments_lexer": "ipython3",
   "version": "3.7.3"
  }
 },
 "nbformat": 4,
 "nbformat_minor": 2
}
