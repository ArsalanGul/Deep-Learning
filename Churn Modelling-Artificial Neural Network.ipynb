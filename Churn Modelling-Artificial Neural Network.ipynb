{
 "cells": [
  {
   "cell_type": "markdown",
   "metadata": {},
   "source": [
    "## 1. Import Libraries and Data"
   ]
  },
  {
   "cell_type": "code",
   "execution_count": 2,
   "metadata": {},
   "outputs": [],
   "source": [
    "import numpy as np\n",
    "import pandas as pd\n",
    "import tensorflow as tf\n",
    "import matplotlib.pyplot as plt\n",
    "%matplotlib inline"
   ]
  },
  {
   "cell_type": "code",
   "execution_count": 3,
   "metadata": {},
   "outputs": [],
   "source": [
    "data= pd.read_csv(r'Deep-Learning Course/Churn_Modelling.csv')"
   ]
  },
  {
   "cell_type": "code",
   "execution_count": 4,
   "metadata": {},
   "outputs": [
    {
     "data": {
      "text/html": [
       "<div>\n",
       "<style scoped>\n",
       "    .dataframe tbody tr th:only-of-type {\n",
       "        vertical-align: middle;\n",
       "    }\n",
       "\n",
       "    .dataframe tbody tr th {\n",
       "        vertical-align: top;\n",
       "    }\n",
       "\n",
       "    .dataframe thead th {\n",
       "        text-align: right;\n",
       "    }\n",
       "</style>\n",
       "<table border=\"1\" class=\"dataframe\">\n",
       "  <thead>\n",
       "    <tr style=\"text-align: right;\">\n",
       "      <th></th>\n",
       "      <th>RowNumber</th>\n",
       "      <th>CustomerId</th>\n",
       "      <th>Surname</th>\n",
       "      <th>CreditScore</th>\n",
       "      <th>Geography</th>\n",
       "      <th>Gender</th>\n",
       "      <th>Age</th>\n",
       "      <th>Tenure</th>\n",
       "      <th>Balance</th>\n",
       "      <th>NumOfProducts</th>\n",
       "      <th>HasCrCard</th>\n",
       "      <th>IsActiveMember</th>\n",
       "      <th>EstimatedSalary</th>\n",
       "      <th>Exited</th>\n",
       "    </tr>\n",
       "  </thead>\n",
       "  <tbody>\n",
       "    <tr>\n",
       "      <th>0</th>\n",
       "      <td>1</td>\n",
       "      <td>15634602</td>\n",
       "      <td>Hargrave</td>\n",
       "      <td>619</td>\n",
       "      <td>France</td>\n",
       "      <td>Female</td>\n",
       "      <td>42</td>\n",
       "      <td>2</td>\n",
       "      <td>0.00</td>\n",
       "      <td>1</td>\n",
       "      <td>1</td>\n",
       "      <td>1</td>\n",
       "      <td>101348.88</td>\n",
       "      <td>1</td>\n",
       "    </tr>\n",
       "    <tr>\n",
       "      <th>1</th>\n",
       "      <td>2</td>\n",
       "      <td>15647311</td>\n",
       "      <td>Hill</td>\n",
       "      <td>608</td>\n",
       "      <td>Spain</td>\n",
       "      <td>Female</td>\n",
       "      <td>41</td>\n",
       "      <td>1</td>\n",
       "      <td>83807.86</td>\n",
       "      <td>1</td>\n",
       "      <td>0</td>\n",
       "      <td>1</td>\n",
       "      <td>112542.58</td>\n",
       "      <td>0</td>\n",
       "    </tr>\n",
       "    <tr>\n",
       "      <th>2</th>\n",
       "      <td>3</td>\n",
       "      <td>15619304</td>\n",
       "      <td>Onio</td>\n",
       "      <td>502</td>\n",
       "      <td>France</td>\n",
       "      <td>Female</td>\n",
       "      <td>42</td>\n",
       "      <td>8</td>\n",
       "      <td>159660.80</td>\n",
       "      <td>3</td>\n",
       "      <td>1</td>\n",
       "      <td>0</td>\n",
       "      <td>113931.57</td>\n",
       "      <td>1</td>\n",
       "    </tr>\n",
       "    <tr>\n",
       "      <th>3</th>\n",
       "      <td>4</td>\n",
       "      <td>15701354</td>\n",
       "      <td>Boni</td>\n",
       "      <td>699</td>\n",
       "      <td>France</td>\n",
       "      <td>Female</td>\n",
       "      <td>39</td>\n",
       "      <td>1</td>\n",
       "      <td>0.00</td>\n",
       "      <td>2</td>\n",
       "      <td>0</td>\n",
       "      <td>0</td>\n",
       "      <td>93826.63</td>\n",
       "      <td>0</td>\n",
       "    </tr>\n",
       "    <tr>\n",
       "      <th>4</th>\n",
       "      <td>5</td>\n",
       "      <td>15737888</td>\n",
       "      <td>Mitchell</td>\n",
       "      <td>850</td>\n",
       "      <td>Spain</td>\n",
       "      <td>Female</td>\n",
       "      <td>43</td>\n",
       "      <td>2</td>\n",
       "      <td>125510.82</td>\n",
       "      <td>1</td>\n",
       "      <td>1</td>\n",
       "      <td>1</td>\n",
       "      <td>79084.10</td>\n",
       "      <td>0</td>\n",
       "    </tr>\n",
       "  </tbody>\n",
       "</table>\n",
       "</div>"
      ],
      "text/plain": [
       "   RowNumber  CustomerId   Surname  CreditScore Geography  Gender  Age  \\\n",
       "0          1    15634602  Hargrave          619    France  Female   42   \n",
       "1          2    15647311      Hill          608     Spain  Female   41   \n",
       "2          3    15619304      Onio          502    France  Female   42   \n",
       "3          4    15701354      Boni          699    France  Female   39   \n",
       "4          5    15737888  Mitchell          850     Spain  Female   43   \n",
       "\n",
       "   Tenure    Balance  NumOfProducts  HasCrCard  IsActiveMember  \\\n",
       "0       2       0.00              1          1               1   \n",
       "1       1   83807.86              1          0               1   \n",
       "2       8  159660.80              3          1               0   \n",
       "3       1       0.00              2          0               0   \n",
       "4       2  125510.82              1          1               1   \n",
       "\n",
       "   EstimatedSalary  Exited  \n",
       "0        101348.88       1  \n",
       "1        112542.58       0  \n",
       "2        113931.57       1  \n",
       "3         93826.63       0  \n",
       "4         79084.10       0  "
      ]
     },
     "execution_count": 4,
     "metadata": {},
     "output_type": "execute_result"
    }
   ],
   "source": [
    "data.head()"
   ]
  },
  {
   "cell_type": "markdown",
   "metadata": {},
   "source": [
    "## 2. Data Preprocessing"
   ]
  },
  {
   "cell_type": "code",
   "execution_count": 5,
   "metadata": {},
   "outputs": [
    {
     "name": "stdout",
     "output_type": "stream",
     "text": [
      "<class 'pandas.core.frame.DataFrame'>\n",
      "RangeIndex: 10000 entries, 0 to 9999\n",
      "Data columns (total 14 columns):\n",
      "RowNumber          10000 non-null int64\n",
      "CustomerId         10000 non-null int64\n",
      "Surname            10000 non-null object\n",
      "CreditScore        10000 non-null int64\n",
      "Geography          10000 non-null object\n",
      "Gender             10000 non-null object\n",
      "Age                10000 non-null int64\n",
      "Tenure             10000 non-null int64\n",
      "Balance            10000 non-null float64\n",
      "NumOfProducts      10000 non-null int64\n",
      "HasCrCard          10000 non-null int64\n",
      "IsActiveMember     10000 non-null int64\n",
      "EstimatedSalary    10000 non-null float64\n",
      "Exited             10000 non-null int64\n",
      "dtypes: float64(2), int64(9), object(3)\n",
      "memory usage: 1.1+ MB\n"
     ]
    }
   ],
   "source": [
    "data.info()"
   ]
  },
  {
   "cell_type": "code",
   "execution_count": 6,
   "metadata": {},
   "outputs": [],
   "source": [
    "X= data.iloc[:,3:-2].values\n",
    "Y= data.iloc[:,-1].values"
   ]
  },
  {
   "cell_type": "code",
   "execution_count": 7,
   "metadata": {},
   "outputs": [],
   "source": [
    "from sklearn.preprocessing import LabelEncoder,OneHotEncoder\n",
    "encoder1=LabelEncoder()\n",
    "encoder2= OneHotEncoder()\n",
    "Gender_var=encoder1.fit_transform(X[:,2]) "
   ]
  },
  {
   "cell_type": "code",
   "execution_count": 8,
   "metadata": {},
   "outputs": [],
   "source": [
    "X[:,2]=Gender_var"
   ]
  },
  {
   "cell_type": "code",
   "execution_count": 9,
   "metadata": {},
   "outputs": [],
   "source": [
    "Geography=encoder1.fit_transform(X[:,1])\n",
    "X[:,1]= Geography"
   ]
  },
  {
   "cell_type": "code",
   "execution_count": 10,
   "metadata": {},
   "outputs": [],
   "source": [
    "from sklearn.model_selection import train_test_split\n",
    "X_train, X_test, Y_train,Y_test = train_test_split(X,Y,test_size= 0.3,random_state=0)"
   ]
  },
  {
   "cell_type": "code",
   "execution_count": 11,
   "metadata": {},
   "outputs": [
    {
     "name": "stderr",
     "output_type": "stream",
     "text": [
      "C:\\Users\\ACER M5\\Anaconda3\\lib\\site-packages\\sklearn\\utils\\validation.py:595: DataConversionWarning: Data with input dtype object was converted to float64 by StandardScaler.\n",
      "  warnings.warn(msg, DataConversionWarning)\n",
      "C:\\Users\\ACER M5\\Anaconda3\\lib\\site-packages\\sklearn\\utils\\validation.py:595: DataConversionWarning: Data with input dtype object was converted to float64 by StandardScaler.\n",
      "  warnings.warn(msg, DataConversionWarning)\n",
      "C:\\Users\\ACER M5\\Anaconda3\\lib\\site-packages\\sklearn\\utils\\validation.py:595: DataConversionWarning: Data with input dtype object was converted to float64 by StandardScaler.\n",
      "  warnings.warn(msg, DataConversionWarning)\n",
      "C:\\Users\\ACER M5\\Anaconda3\\lib\\site-packages\\sklearn\\utils\\validation.py:595: DataConversionWarning: Data with input dtype object was converted to float64 by StandardScaler.\n",
      "  warnings.warn(msg, DataConversionWarning)\n"
     ]
    }
   ],
   "source": [
    "from sklearn.preprocessing import StandardScaler\n",
    "sc=StandardScaler()\n",
    "X_train= sc.fit_transform(X_train)\n",
    "X_test= sc.fit_transform(X_test)"
   ]
  },
  {
   "cell_type": "markdown",
   "metadata": {},
   "source": [
    "## 3. Using Keras"
   ]
  },
  {
   "cell_type": "code",
   "execution_count": 16,
   "metadata": {},
   "outputs": [
    {
     "name": "stderr",
     "output_type": "stream",
     "text": [
      "Using TensorFlow backend.\n"
     ]
    }
   ],
   "source": [
    "import keras\n",
    "from keras.models import Sequential\n",
    "from keras.layers import Dense"
   ]
  },
  {
   "cell_type": "code",
   "execution_count": 17,
   "metadata": {},
   "outputs": [],
   "source": [
    "classifier_model= Sequential()"
   ]
  },
  {
   "cell_type": "code",
   "execution_count": 18,
   "metadata": {},
   "outputs": [
    {
     "name": "stderr",
     "output_type": "stream",
     "text": [
      "C:\\Users\\ACER M5\\Anaconda3\\lib\\site-packages\\ipykernel_launcher.py:1: UserWarning: Update your `Dense` call to the Keras 2 API: `Dense(30, input_dim=9, activation=\"relu\", kernel_initializer=\"uniform\")`\n",
      "  \"\"\"Entry point for launching an IPython kernel.\n"
     ]
    },
    {
     "name": "stdout",
     "output_type": "stream",
     "text": [
      "WARNING:tensorflow:From C:\\Users\\ACER M5\\Anaconda3\\lib\\site-packages\\tensorflow\\python\\framework\\op_def_library.py:263: colocate_with (from tensorflow.python.framework.ops) is deprecated and will be removed in a future version.\n",
      "Instructions for updating:\n",
      "Colocations handled automatically by placer.\n"
     ]
    }
   ],
   "source": [
    "classifier_model.add(Dense(30,input_dim= 9,activation='relu',init='uniform'))\n",
    "classifier_model.add(Dense(30,activation='relu'))\n",
    "classifier_model.add(Dense(1,activation='sigmoid'))\n",
    "classifier_model.compile(optimizer='adam',loss='binary_crossentropy',metrics=['accuracy'])\n",
    "# binary cross entropy as it is classification problem"
   ]
  },
  {
   "cell_type": "code",
   "execution_count": 19,
   "metadata": {},
   "outputs": [
    {
     "name": "stdout",
     "output_type": "stream",
     "text": [
      "WARNING:tensorflow:From C:\\Users\\ACER M5\\Anaconda3\\lib\\site-packages\\tensorflow\\python\\ops\\math_ops.py:3066: to_int32 (from tensorflow.python.ops.math_ops) is deprecated and will be removed in a future version.\n",
      "Instructions for updating:\n",
      "Use tf.cast instead.\n",
      "Epoch 1/100\n",
      "7000/7000 [==============================] - 6s 796us/step - loss: 0.4373 - acc: 0.8139\n",
      "Epoch 2/100\n",
      "7000/7000 [==============================] - 2s 307us/step - loss: 0.3603 - acc: 0.8519\n",
      "Epoch 3/100\n",
      "7000/7000 [==============================] - 2s 303us/step - loss: 0.3538 - acc: 0.8523\n",
      "Epoch 4/100\n",
      "7000/7000 [==============================] - 2s 278us/step - loss: 0.3485 - acc: 0.8563\n",
      "Epoch 5/100\n",
      "7000/7000 [==============================] - 2s 273us/step - loss: 0.3459 - acc: 0.8573\n",
      "Epoch 6/100\n",
      "7000/7000 [==============================] - 2s 262us/step - loss: 0.3430 - acc: 0.8569\n",
      "Epoch 7/100\n",
      "7000/7000 [==============================] - 2s 271us/step - loss: 0.3408 - acc: 0.8613\n",
      "Epoch 8/100\n",
      "7000/7000 [==============================] - 2s 274us/step - loss: 0.3416 - acc: 0.8583\n",
      "Epoch 9/100\n",
      "7000/7000 [==============================] - 2s 270us/step - loss: 0.3385 - acc: 0.8619\n",
      "Epoch 10/100\n",
      "7000/7000 [==============================] - 2s 271us/step - loss: 0.3350 - acc: 0.8631\n",
      "Epoch 11/100\n",
      "7000/7000 [==============================] - 2s 274us/step - loss: 0.3355 - acc: 0.8630\n",
      "Epoch 12/100\n",
      "7000/7000 [==============================] - 2s 285us/step - loss: 0.3353 - acc: 0.8620\n",
      "Epoch 13/100\n",
      "7000/7000 [==============================] - 2s 273us/step - loss: 0.3315 - acc: 0.8640\n",
      "Epoch 14/100\n",
      "7000/7000 [==============================] - 2s 267us/step - loss: 0.3319 - acc: 0.8641\n",
      "Epoch 15/100\n",
      "7000/7000 [==============================] - 2s 305us/step - loss: 0.3298 - acc: 0.8674\n",
      "Epoch 16/100\n",
      "7000/7000 [==============================] - 2s 314us/step - loss: 0.3311 - acc: 0.8621\n",
      "Epoch 17/100\n",
      "7000/7000 [==============================] - 2s 318us/step - loss: 0.3297 - acc: 0.8656\n",
      "Epoch 18/100\n",
      "7000/7000 [==============================] - 3s 367us/step - loss: 0.3287 - acc: 0.8646\n",
      "Epoch 19/100\n",
      "7000/7000 [==============================] - 3s 369us/step - loss: 0.3269 - acc: 0.8639\n",
      "Epoch 20/100\n",
      "7000/7000 [==============================] - 2s 353us/step - loss: 0.3273 - acc: 0.8683\n",
      "Epoch 21/100\n",
      "7000/7000 [==============================] - 2s 346us/step - loss: 0.3258 - acc: 0.8646\n",
      "Epoch 22/100\n",
      "7000/7000 [==============================] - 3s 367us/step - loss: 0.3243 - acc: 0.8657\n",
      "Epoch 23/100\n",
      "7000/7000 [==============================] - 2s 327us/step - loss: 0.3232 - acc: 0.8683\n",
      "Epoch 24/100\n",
      "7000/7000 [==============================] - 3s 394us/step - loss: 0.3245 - acc: 0.8700\n",
      "Epoch 25/100\n",
      "7000/7000 [==============================] - 3s 460us/step - loss: 0.3220 - acc: 0.8713\n",
      "Epoch 26/100\n",
      "7000/7000 [==============================] - 2s 327us/step - loss: 0.3216 - acc: 0.8680\n",
      "Epoch 27/100\n",
      "7000/7000 [==============================] - 2s 319us/step - loss: 0.3215 - acc: 0.8691\n",
      "Epoch 28/100\n",
      "7000/7000 [==============================] - 2s 331us/step - loss: 0.3208 - acc: 0.8716\n",
      "Epoch 29/100\n",
      "7000/7000 [==============================] - 3s 392us/step - loss: 0.3205 - acc: 0.8694\n",
      "Epoch 30/100\n",
      "7000/7000 [==============================] - 2s 337us/step - loss: 0.3193 - acc: 0.8693\n",
      "Epoch 31/100\n",
      "7000/7000 [==============================] - 2s 330us/step - loss: 0.3184 - acc: 0.8700\n",
      "Epoch 32/100\n",
      "7000/7000 [==============================] - 2s 315us/step - loss: 0.3183 - acc: 0.8723\n",
      "Epoch 33/100\n",
      "7000/7000 [==============================] - 2s 320us/step - loss: 0.3172 - acc: 0.8711\n",
      "Epoch 34/100\n",
      "7000/7000 [==============================] - 2s 323us/step - loss: 0.3159 - acc: 0.8724\n",
      "Epoch 35/100\n",
      "7000/7000 [==============================] - 2s 323us/step - loss: 0.3167 - acc: 0.8721\n",
      "Epoch 36/100\n",
      "7000/7000 [==============================] - 2s 325us/step - loss: 0.3157 - acc: 0.8711\n",
      "Epoch 37/100\n",
      "7000/7000 [==============================] - 2s 323us/step - loss: 0.3152 - acc: 0.8744\n",
      "Epoch 38/100\n",
      "7000/7000 [==============================] - 2s 324us/step - loss: 0.3135 - acc: 0.8753\n",
      "Epoch 39/100\n",
      "7000/7000 [==============================] - 2s 322us/step - loss: 0.3137 - acc: 0.8693\n",
      "Epoch 40/100\n",
      "7000/7000 [==============================] - 2s 327us/step - loss: 0.3126 - acc: 0.8717\n",
      "Epoch 41/100\n",
      "7000/7000 [==============================] - 2s 355us/step - loss: 0.3125 - acc: 0.8701\n",
      "Epoch 42/100\n",
      "7000/7000 [==============================] - 2s 335us/step - loss: 0.3118 - acc: 0.8721\n",
      "Epoch 43/100\n",
      "7000/7000 [==============================] - 2s 309us/step - loss: 0.3108 - acc: 0.8740 0s - loss: \n",
      "Epoch 44/100\n",
      "7000/7000 [==============================] - 2s 313us/step - loss: 0.3115 - acc: 0.8730\n",
      "Epoch 45/100\n",
      "7000/7000 [==============================] - 2s 323us/step - loss: 0.3105 - acc: 0.8743\n",
      "Epoch 46/100\n",
      "7000/7000 [==============================] - 2s 295us/step - loss: 0.3090 - acc: 0.8766\n",
      "Epoch 47/100\n",
      "7000/7000 [==============================] - 2s 285us/step - loss: 0.3096 - acc: 0.8737\n",
      "Epoch 48/100\n",
      "7000/7000 [==============================] - 2s 287us/step - loss: 0.3091 - acc: 0.8730\n",
      "Epoch 49/100\n",
      "7000/7000 [==============================] - 2s 288us/step - loss: 0.3080 - acc: 0.8764\n",
      "Epoch 50/100\n",
      "7000/7000 [==============================] - 2s 288us/step - loss: 0.3083 - acc: 0.8731\n",
      "Epoch 51/100\n",
      "7000/7000 [==============================] - 2s 286us/step - loss: 0.3063 - acc: 0.8780\n",
      "Epoch 52/100\n",
      "7000/7000 [==============================] - 2s 290us/step - loss: 0.3075 - acc: 0.8739\n",
      "Epoch 53/100\n",
      "7000/7000 [==============================] - 2s 290us/step - loss: 0.3062 - acc: 0.8753\n",
      "Epoch 54/100\n",
      "7000/7000 [==============================] - 2s 290us/step - loss: 0.3054 - acc: 0.8764\n",
      "Epoch 55/100\n",
      "7000/7000 [==============================] - 2s 294us/step - loss: 0.3060 - acc: 0.8760\n",
      "Epoch 56/100\n",
      "7000/7000 [==============================] - 2s 282us/step - loss: 0.3056 - acc: 0.8749\n",
      "Epoch 57/100\n",
      "7000/7000 [==============================] - 2s 287us/step - loss: 0.3033 - acc: 0.8754\n",
      "Epoch 58/100\n",
      "7000/7000 [==============================] - 2s 310us/step - loss: 0.3018 - acc: 0.8761\n",
      "Epoch 59/100\n",
      "7000/7000 [==============================] - 2s 344us/step - loss: 0.3027 - acc: 0.8766\n",
      "Epoch 60/100\n",
      "7000/7000 [==============================] - 2s 308us/step - loss: 0.3023 - acc: 0.8763\n",
      "Epoch 61/100\n",
      "7000/7000 [==============================] - 2s 292us/step - loss: 0.3020 - acc: 0.8783\n",
      "Epoch 62/100\n",
      "7000/7000 [==============================] - 2s 285us/step - loss: 0.3023 - acc: 0.8771\n",
      "Epoch 63/100\n",
      "7000/7000 [==============================] - 2s 287us/step - loss: 0.3013 - acc: 0.8767\n",
      "Epoch 64/100\n",
      "7000/7000 [==============================] - 2s 293us/step - loss: 0.2992 - acc: 0.8789\n",
      "Epoch 65/100\n",
      "7000/7000 [==============================] - 2s 287us/step - loss: 0.2984 - acc: 0.8774\n",
      "Epoch 66/100\n",
      "7000/7000 [==============================] - 2s 294us/step - loss: 0.2992 - acc: 0.8761\n",
      "Epoch 67/100\n",
      "7000/7000 [==============================] - 2s 283us/step - loss: 0.2990 - acc: 0.8794\n",
      "Epoch 68/100\n",
      "7000/7000 [==============================] - 2s 290us/step - loss: 0.2980 - acc: 0.8771\n",
      "Epoch 69/100\n",
      "7000/7000 [==============================] - 2s 289us/step - loss: 0.2983 - acc: 0.8779\n",
      "Epoch 70/100\n",
      "7000/7000 [==============================] - 3s 360us/step - loss: 0.2977 - acc: 0.8786\n",
      "Epoch 71/100\n",
      "7000/7000 [==============================] - 2s 318us/step - loss: 0.2972 - acc: 0.8791\n",
      "Epoch 72/100\n",
      "7000/7000 [==============================] - 2s 280us/step - loss: 0.2962 - acc: 0.8797\n",
      "Epoch 73/100\n",
      "7000/7000 [==============================] - 2s 294us/step - loss: 0.2964 - acc: 0.8780\n",
      "Epoch 74/100\n",
      "7000/7000 [==============================] - 2s 288us/step - loss: 0.2952 - acc: 0.8786\n",
      "Epoch 75/100\n",
      "7000/7000 [==============================] - 2s 319us/step - loss: 0.2959 - acc: 0.8790\n",
      "Epoch 76/100\n",
      "7000/7000 [==============================] - 2s 299us/step - loss: 0.2944 - acc: 0.8801\n",
      "Epoch 77/100\n",
      "7000/7000 [==============================] - 2s 282us/step - loss: 0.2944 - acc: 0.8793\n",
      "Epoch 78/100\n",
      "7000/7000 [==============================] - 2s 283us/step - loss: 0.2944 - acc: 0.8811\n",
      "Epoch 79/100\n",
      "7000/7000 [==============================] - 2s 251us/step - loss: 0.2932 - acc: 0.8824\n",
      "Epoch 80/100\n",
      "7000/7000 [==============================] - 2s 263us/step - loss: 0.2953 - acc: 0.8807\n",
      "Epoch 81/100\n",
      "7000/7000 [==============================] - 2s 270us/step - loss: 0.2920 - acc: 0.8843\n",
      "Epoch 82/100\n",
      "7000/7000 [==============================] - 2s 251us/step - loss: 0.2927 - acc: 0.8827\n",
      "Epoch 83/100\n",
      "7000/7000 [==============================] - 2s 258us/step - loss: 0.2932 - acc: 0.8810\n",
      "Epoch 84/100\n",
      "7000/7000 [==============================] - 2s 258us/step - loss: 0.2911 - acc: 0.8839\n",
      "Epoch 85/100\n",
      "7000/7000 [==============================] - 2s 248us/step - loss: 0.2902 - acc: 0.8830\n",
      "Epoch 86/100\n",
      "7000/7000 [==============================] - 2s 260us/step - loss: 0.2904 - acc: 0.8803\n",
      "Epoch 87/100\n",
      "7000/7000 [==============================] - 2s 249us/step - loss: 0.2907 - acc: 0.8817\n",
      "Epoch 88/100\n",
      "7000/7000 [==============================] - 2s 254us/step - loss: 0.2891 - acc: 0.8834\n",
      "Epoch 89/100\n",
      "7000/7000 [==============================] - 2s 264us/step - loss: 0.2895 - acc: 0.8813\n",
      "Epoch 90/100\n",
      "7000/7000 [==============================] - 2s 250us/step - loss: 0.2907 - acc: 0.8823\n",
      "Epoch 91/100\n",
      "7000/7000 [==============================] - 2s 260us/step - loss: 0.2906 - acc: 0.8824\n",
      "Epoch 92/100\n",
      "7000/7000 [==============================] - 2s 257us/step - loss: 0.2888 - acc: 0.8844\n",
      "Epoch 93/100\n",
      "7000/7000 [==============================] - 2s 250us/step - loss: 0.2892 - acc: 0.8839\n",
      "Epoch 94/100\n",
      "7000/7000 [==============================] - 2s 261us/step - loss: 0.2880 - acc: 0.8857\n",
      "Epoch 95/100\n",
      "7000/7000 [==============================] - 2s 263us/step - loss: 0.2870 - acc: 0.8837\n",
      "Epoch 96/100\n",
      "7000/7000 [==============================] - 2s 254us/step - loss: 0.2868 - acc: 0.8860\n",
      "Epoch 97/100\n",
      "7000/7000 [==============================] - 2s 261us/step - loss: 0.2871 - acc: 0.8820\n",
      "Epoch 98/100\n",
      "7000/7000 [==============================] - 2s 265us/step - loss: 0.2863 - acc: 0.8819\n",
      "Epoch 99/100\n",
      "7000/7000 [==============================] - 2s 252us/step - loss: 0.2876 - acc: 0.8823\n",
      "Epoch 100/100\n",
      "7000/7000 [==============================] - 2s 268us/step - loss: 0.2870 - acc: 0.8783\n"
     ]
    },
    {
     "data": {
      "text/plain": [
       "<keras.callbacks.History at 0x1ee51fee278>"
      ]
     },
     "execution_count": 19,
     "metadata": {},
     "output_type": "execute_result"
    }
   ],
   "source": [
    "classifier_model.fit(X_train,Y_train,batch_size=10,epochs=100)"
   ]
  },
  {
   "cell_type": "code",
   "execution_count": 20,
   "metadata": {},
   "outputs": [],
   "source": [
    "y_pred=classifier_model.predict(X_test)"
   ]
  },
  {
   "cell_type": "code",
   "execution_count": 21,
   "metadata": {},
   "outputs": [],
   "source": [
    "y_pred= [y_pred > 0.5]"
   ]
  },
  {
   "cell_type": "code",
   "execution_count": 22,
   "metadata": {},
   "outputs": [],
   "source": [
    "y_pred= np.array(y_pred)"
   ]
  },
  {
   "cell_type": "code",
   "execution_count": 23,
   "metadata": {},
   "outputs": [],
   "source": [
    "y_pred=y_pred.reshape(-1,1)"
   ]
  },
  {
   "cell_type": "code",
   "execution_count": 24,
   "metadata": {},
   "outputs": [],
   "source": [
    "from sklearn.metrics import confusion_matrix\n",
    "cm = confusion_matrix(Y_test,y_pred)"
   ]
  },
  {
   "cell_type": "code",
   "execution_count": 25,
   "metadata": {},
   "outputs": [
    {
     "data": {
      "text/plain": [
       "array([[2217,  162],\n",
       "       [ 280,  341]], dtype=int64)"
      ]
     },
     "execution_count": 25,
     "metadata": {},
     "output_type": "execute_result"
    }
   ],
   "source": [
    "cm"
   ]
  },
  {
   "cell_type": "code",
   "execution_count": 26,
   "metadata": {},
   "outputs": [],
   "source": [
    "accuracy_cm= (cm[0][0] + cm[1][1] )/ 3000"
   ]
  },
  {
   "cell_type": "code",
   "execution_count": 27,
   "metadata": {},
   "outputs": [
    {
     "data": {
      "text/plain": [
       "0.8526666666666667"
      ]
     },
     "execution_count": 27,
     "metadata": {},
     "output_type": "execute_result"
    }
   ],
   "source": [
    "accuracy_cm"
   ]
  },
  {
   "cell_type": "markdown",
   "metadata": {},
   "source": [
    "## Evaluating ANN using K-Fold CV"
   ]
  },
  {
   "cell_type": "code",
   "execution_count": 35,
   "metadata": {},
   "outputs": [],
   "source": [
    "from keras.wrappers.scikit_learn import KerasClassifier   ### Mixture of Sickit LEARN and KERAS\n",
    "from sklearn.model_selection  import cross_val_score\n",
    "from keras.models import Sequential\n",
    "from keras.layers import Dense"
   ]
  },
  {
   "cell_type": "code",
   "execution_count": 37,
   "metadata": {},
   "outputs": [
    {
     "name": "stderr",
     "output_type": "stream",
     "text": [
      "[Parallel(n_jobs=-1)]: Using backend LokyBackend with 4 concurrent workers.\n",
      "[Parallel(n_jobs=-1)]: Done  10 out of  10 | elapsed: 19.3min finished\n"
     ]
    }
   ],
   "source": [
    "def build_classifier():     ### Function that is needed for Keras Classifier\n",
    "    classifier=Sequential()\n",
    "    classifier.add(Dense(30,input_dim= 9,activation='relu',init='uniform'))\n",
    "    classifier.add(Dense(36,activation='relu'))\n",
    "    classifier.add(Dense(1,activation='sigmoid'))\n",
    "    classifier.compile(optimizer='adam',loss='binary_crossentropy',metrics=['accuracy'])\n",
    "    return classifier\n",
    "\n",
    "classifier= KerasClassifier(build_fn=build_classifier,batch_size=10,epochs=100)\n",
    "accuracy= cross_val_score(classifier,X_train,Y_train,n_jobs=-1,cv=10,verbose=True)"
   ]
  },
  {
   "cell_type": "code",
   "execution_count": 39,
   "metadata": {},
   "outputs": [],
   "source": [
    "mean=accuracy.mean()\n",
    "std= accuracy.std()"
   ]
  },
  {
   "cell_type": "code",
   "execution_count": 40,
   "metadata": {},
   "outputs": [
    {
     "name": "stdout",
     "output_type": "stream",
     "text": [
      "0.8571428510972432 0.009191832707492435\n"
     ]
    }
   ],
   "source": [
    "print(mean,std)"
   ]
  },
  {
   "cell_type": "markdown",
   "metadata": {},
   "source": [
    "##### If model is overfitting i.e high varinace then use Keras.layers.Dropout to disable few neurons at each epoch for the reduction of overfitting."
   ]
  },
  {
   "cell_type": "markdown",
   "metadata": {},
   "source": [
    "Here variance is very low. And accuracy of 85 % is very good.\n",
    "\n",
    "We can further use paramter tuning with grid search CV to further lower the bias or increase the accuracy."
   ]
  },
  {
   "cell_type": "markdown",
   "metadata": {},
   "source": [
    "##  Parameter Tuning through GridSearch CV\n",
    "### !!!!!!  Run only when you can spare several hours."
   ]
  },
  {
   "cell_type": "code",
   "execution_count": 1,
   "metadata": {},
   "outputs": [
    {
     "name": "stderr",
     "output_type": "stream",
     "text": [
      "Using TensorFlow backend.\n"
     ]
    }
   ],
   "source": [
    "from keras.wrappers.scikit_learn import KerasClassifier   ### Mixture of Sickit LEARN and KERAS\n",
    "from sklearn.model_selection  import GridSearchCV\n",
    "from keras.models import Sequential\n",
    "from keras.layers import Dense"
   ]
  },
  {
   "cell_type": "code",
   "execution_count": 13,
   "metadata": {},
   "outputs": [
    {
     "name": "stderr",
     "output_type": "stream",
     "text": [
      "C:\\Users\\ACER M5\\Anaconda3\\lib\\site-packages\\ipykernel_launcher.py:3: UserWarning: Update your `Dense` call to the Keras 2 API: `Dense(30, input_dim=9, activation=\"relu\", kernel_initializer=\"uniform\")`\n",
      "  This is separate from the ipykernel package so we can avoid doing imports until\n"
     ]
    },
    {
     "name": "stdout",
     "output_type": "stream",
     "text": [
      "WARNING:tensorflow:From C:\\Users\\ACER M5\\Anaconda3\\lib\\site-packages\\tensorflow\\python\\framework\\op_def_library.py:263: colocate_with (from tensorflow.python.framework.ops) is deprecated and will be removed in a future version.\n",
      "Instructions for updating:\n",
      "Colocations handled automatically by placer.\n",
      "WARNING:tensorflow:From C:\\Users\\ACER M5\\Anaconda3\\lib\\site-packages\\tensorflow\\python\\ops\\math_ops.py:3066: to_int32 (from tensorflow.python.ops.math_ops) is deprecated and will be removed in a future version.\n",
      "Instructions for updating:\n",
      "Use tf.cast instead.\n",
      "Epoch 1/100\n",
      "6300/6300 [==============================] - 5s 754us/step - loss: 0.4371 - acc: 0.8122\n",
      "Epoch 2/100\n",
      "6300/6300 [==============================] - 2s 291us/step - loss: 0.3662 - acc: 0.8495\n",
      "Epoch 3/100\n",
      "6300/6300 [==============================] - 2s 304us/step - loss: 0.3542 - acc: 0.8546\n",
      "Epoch 4/100\n",
      "6300/6300 [==============================] - 2s 315us/step - loss: 0.3510 - acc: 0.8554\n",
      "Epoch 5/100\n",
      "6300/6300 [==============================] - 2s 284us/step - loss: 0.3476 - acc: 0.8576\n",
      "Epoch 6/100\n",
      "6300/6300 [==============================] - 2s 273us/step - loss: 0.3430 - acc: 0.8567\n",
      "Epoch 7/100\n",
      "6300/6300 [==============================] - 2s 284us/step - loss: 0.3415 - acc: 0.8600\n",
      "Epoch 8/100\n",
      "6300/6300 [==============================] - 2s 281us/step - loss: 0.3396 - acc: 0.8627\n",
      "Epoch 9/100\n",
      "6300/6300 [==============================] - 2s 272us/step - loss: 0.3397 - acc: 0.8635\n",
      "Epoch 10/100\n",
      "6300/6300 [==============================] - 2s 287us/step - loss: 0.3356 - acc: 0.8611\n",
      "Epoch 11/100\n",
      "6300/6300 [==============================] - 2s 281us/step - loss: 0.3373 - acc: 0.8637\n",
      "Epoch 12/100\n",
      "6300/6300 [==============================] - 2s 279us/step - loss: 0.3330 - acc: 0.8654\n",
      "Epoch 13/100\n",
      "6300/6300 [==============================] - 2s 285us/step - loss: 0.3323 - acc: 0.8662\n",
      "Epoch 14/100\n",
      "6300/6300 [==============================] - 2s 283us/step - loss: 0.3327 - acc: 0.8629\n",
      "Epoch 15/100\n",
      "6300/6300 [==============================] - 2s 284us/step - loss: 0.3304 - acc: 0.8660\n",
      "Epoch 16/100\n",
      "6300/6300 [==============================] - 2s 283us/step - loss: 0.3301 - acc: 0.8643\n",
      "Epoch 17/100\n",
      "6300/6300 [==============================] - 2s 273us/step - loss: 0.3277 - acc: 0.8662\n",
      "Epoch 18/100\n",
      "6300/6300 [==============================] - 2s 317us/step - loss: 0.3271 - acc: 0.8676\n",
      "Epoch 19/100\n",
      "6300/6300 [==============================] - 2s 346us/step - loss: 0.3261 - acc: 0.8659\n",
      "Epoch 20/100\n",
      "6300/6300 [==============================] - 2s 338us/step - loss: 0.3255 - acc: 0.8671\n",
      "Epoch 21/100\n",
      "6300/6300 [==============================] - 2s 296us/step - loss: 0.3244 - acc: 0.8679\n",
      "Epoch 22/100\n",
      "6300/6300 [==============================] - 2s 277us/step - loss: 0.3232 - acc: 0.8675\n",
      "Epoch 23/100\n",
      "6300/6300 [==============================] - 2s 292us/step - loss: 0.3231 - acc: 0.8694\n",
      "Epoch 24/100\n",
      "6300/6300 [==============================] - 2s 290us/step - loss: 0.3222 - acc: 0.8695\n",
      "Epoch 25/100\n",
      "6300/6300 [==============================] - 2s 284us/step - loss: 0.3222 - acc: 0.8678\n",
      "Epoch 26/100\n",
      "6300/6300 [==============================] - 2s 284us/step - loss: 0.3210 - acc: 0.8675\n",
      "Epoch 27/100\n",
      "6300/6300 [==============================] - 2s 293us/step - loss: 0.3203 - acc: 0.8695\n",
      "Epoch 28/100\n",
      "6300/6300 [==============================] - 2s 293us/step - loss: 0.3209 - acc: 0.8702\n",
      "Epoch 29/100\n",
      "6300/6300 [==============================] - 2s 281us/step - loss: 0.3203 - acc: 0.8667\n",
      "Epoch 30/100\n",
      "6300/6300 [==============================] - 2s 293us/step - loss: 0.3193 - acc: 0.8690\n",
      "Epoch 31/100\n",
      "6300/6300 [==============================] - 2s 303us/step - loss: 0.3192 - acc: 0.8695\n",
      "Epoch 32/100\n",
      "6300/6300 [==============================] - 2s 290us/step - loss: 0.3182 - acc: 0.8702\n",
      "Epoch 33/100\n",
      "6300/6300 [==============================] - ETA: 0s - loss: 0.3172 - acc: 0.870 - 2s 285us/step - loss: 0.3175 - acc: 0.8702\n",
      "Epoch 34/100\n",
      "6300/6300 [==============================] - 2s 289us/step - loss: 0.3143 - acc: 0.8711\n",
      "Epoch 35/100\n",
      "6300/6300 [==============================] - 2s 292us/step - loss: 0.3155 - acc: 0.8708\n",
      "Epoch 36/100\n",
      "6300/6300 [==============================] - 2s 285us/step - loss: 0.3165 - acc: 0.8716\n",
      "Epoch 37/100\n",
      "6300/6300 [==============================] - 2s 291us/step - loss: 0.3129 - acc: 0.8722\n",
      "Epoch 38/100\n",
      "6300/6300 [==============================] - 2s 292us/step - loss: 0.3149 - acc: 0.8702\n",
      "Epoch 39/100\n",
      "6300/6300 [==============================] - 2s 285us/step - loss: 0.3136 - acc: 0.8722\n",
      "Epoch 40/100\n",
      "6300/6300 [==============================] - 2s 292us/step - loss: 0.3132 - acc: 0.8724\n",
      "Epoch 41/100\n",
      "6300/6300 [==============================] - 2s 295us/step - loss: 0.3126 - acc: 0.8746\n",
      "Epoch 42/100\n",
      "6300/6300 [==============================] - 2s 292us/step - loss: 0.3091 - acc: 0.8741\n",
      "Epoch 43/100\n",
      "6300/6300 [==============================] - 2s 288us/step - loss: 0.3112 - acc: 0.8716\n",
      "Epoch 44/100\n",
      "6300/6300 [==============================] - 2s 290us/step - loss: 0.3097 - acc: 0.8743\n",
      "Epoch 45/100\n",
      "6300/6300 [==============================] - 2s 294us/step - loss: 0.3108 - acc: 0.8721\n",
      "Epoch 46/100\n",
      "6300/6300 [==============================] - 2s 286us/step - loss: 0.3106 - acc: 0.8727\n",
      "Epoch 47/100\n",
      "6300/6300 [==============================] - 2s 296us/step - loss: 0.3092 - acc: 0.8729\n",
      "Epoch 48/100\n",
      "6300/6300 [==============================] - 2s 292us/step - loss: 0.3081 - acc: 0.8738\n",
      "Epoch 49/100\n",
      "6300/6300 [==============================] - 2s 285us/step - loss: 0.3089 - acc: 0.8752\n",
      "Epoch 50/100\n",
      "6300/6300 [==============================] - 2s 290us/step - loss: 0.3076 - acc: 0.8744\n",
      "Epoch 51/100\n",
      "6300/6300 [==============================] - 2s 352us/step - loss: 0.3066 - acc: 0.8724\n",
      "Epoch 52/100\n",
      "6300/6300 [==============================] - 2s 297us/step - loss: 0.3077 - acc: 0.8733\n",
      "Epoch 53/100\n",
      "6300/6300 [==============================] - 2s 299us/step - loss: 0.3056 - acc: 0.8768\n",
      "Epoch 54/100\n",
      "6300/6300 [==============================] - 2s 287us/step - loss: 0.3066 - acc: 0.8722\n",
      "Epoch 55/100\n",
      "6300/6300 [==============================] - 2s 290us/step - loss: 0.3050 - acc: 0.8749\n",
      "Epoch 56/100\n",
      "6300/6300 [==============================] - 2s 296us/step - loss: 0.3056 - acc: 0.8749\n",
      "Epoch 57/100\n",
      "6300/6300 [==============================] - ETA: 0s - loss: 0.3049 - acc: 0.872 - 2s 328us/step - loss: 0.3055 - acc: 0.8725\n",
      "Epoch 58/100\n",
      "6300/6300 [==============================] - 2s 303us/step - loss: 0.3037 - acc: 0.8765\n",
      "Epoch 59/100\n",
      "6300/6300 [==============================] - 2s 293us/step - loss: 0.3052 - acc: 0.8735\n",
      "Epoch 60/100\n",
      "6300/6300 [==============================] - 2s 294us/step - loss: 0.3050 - acc: 0.8771\n",
      "Epoch 61/100\n",
      "6300/6300 [==============================] - 2s 280us/step - loss: 0.3033 - acc: 0.8746\n",
      "Epoch 62/100\n",
      "6300/6300 [==============================] - 2s 288us/step - loss: 0.3032 - acc: 0.8778\n",
      "Epoch 63/100\n",
      "6300/6300 [==============================] - 2s 286us/step - loss: 0.3020 - acc: 0.8770\n",
      "Epoch 64/100\n",
      "6300/6300 [==============================] - 2s 287us/step - loss: 0.3033 - acc: 0.8775\n",
      "Epoch 65/100\n",
      "6300/6300 [==============================] - 2s 290us/step - loss: 0.3012 - acc: 0.8744\n",
      "Epoch 66/100\n",
      "6300/6300 [==============================] - 2s 287us/step - loss: 0.3022 - acc: 0.8768\n",
      "Epoch 67/100\n",
      "6300/6300 [==============================] - 2s 285us/step - loss: 0.3016 - acc: 0.8784\n",
      "Epoch 68/100\n",
      "6300/6300 [==============================] - 2s 288us/step - loss: 0.3012 - acc: 0.8757\n",
      "Epoch 69/100\n",
      "6300/6300 [==============================] - 2s 303us/step - loss: 0.2990 - acc: 0.8781\n",
      "Epoch 70/100\n",
      "6300/6300 [==============================] - 2s 297us/step - loss: 0.3008 - acc: 0.8786\n",
      "Epoch 71/100\n",
      "6300/6300 [==============================] - 2s 297us/step - loss: 0.3006 - acc: 0.8765\n",
      "Epoch 72/100\n",
      "6300/6300 [==============================] - 2s 296us/step - loss: 0.2990 - acc: 0.8776\n",
      "Epoch 73/100\n",
      "6300/6300 [==============================] - 2s 292us/step - loss: 0.2973 - acc: 0.8771\n",
      "Epoch 74/100\n",
      "6300/6300 [==============================] - 2s 283us/step - loss: 0.2976 - acc: 0.8757\n",
      "Epoch 75/100\n",
      "6300/6300 [==============================] - 2s 266us/step - loss: 0.2977 - acc: 0.8816\n",
      "Epoch 76/100\n",
      "6300/6300 [==============================] - 2s 253us/step - loss: 0.2980 - acc: 0.8773\n",
      "Epoch 77/100\n",
      "6300/6300 [==============================] - 2s 275us/step - loss: 0.2959 - acc: 0.8786\n",
      "Epoch 78/100\n",
      "6300/6300 [==============================] - 2s 255us/step - loss: 0.2957 - acc: 0.8789\n",
      "Epoch 79/100\n",
      "6300/6300 [==============================] - 2s 257us/step - loss: 0.2963 - acc: 0.8800\n",
      "Epoch 80/100\n",
      "6300/6300 [==============================] - 2s 261us/step - loss: 0.2952 - acc: 0.8784\n",
      "Epoch 81/100\n",
      "6300/6300 [==============================] - 2s 261us/step - loss: 0.2936 - acc: 0.8798\n",
      "Epoch 82/100\n",
      "6300/6300 [==============================] - 2s 277us/step - loss: 0.2958 - acc: 0.8808\n",
      "Epoch 83/100\n",
      "6300/6300 [==============================] - 2s 306us/step - loss: 0.2944 - acc: 0.8786\n",
      "Epoch 84/100\n",
      "6300/6300 [==============================] - 2s 264us/step - loss: 0.2939 - acc: 0.8784\n",
      "Epoch 85/100\n",
      "6300/6300 [==============================] - 2s 257us/step - loss: 0.2946 - acc: 0.8817\n",
      "Epoch 86/100\n",
      "6300/6300 [==============================] - 2s 269us/step - loss: 0.2941 - acc: 0.8786 \n",
      "Epoch 87/100\n",
      "6300/6300 [==============================] - 2s 264us/step - loss: 0.2927 - acc: 0.8798\n",
      "Epoch 88/100\n",
      "6300/6300 [==============================] - 2s 258us/step - loss: 0.2918 - acc: 0.8821\n",
      "Epoch 89/100\n",
      "6300/6300 [==============================] - 2s 271us/step - loss: 0.2917 - acc: 0.8811\n",
      "Epoch 90/100\n",
      "6300/6300 [==============================] - 2s 258us/step - loss: 0.2924 - acc: 0.8797\n",
      "Epoch 91/100\n",
      "6300/6300 [==============================] - 2s 269us/step - loss: 0.2907 - acc: 0.8822\n",
      "Epoch 92/100\n",
      "6300/6300 [==============================] - 2s 257us/step - loss: 0.2904 - acc: 0.8811\n",
      "Epoch 93/100\n",
      "6300/6300 [==============================] - 2s 266us/step - loss: 0.2890 - acc: 0.8805\n",
      "Epoch 94/100\n",
      "6300/6300 [==============================] - 2s 270us/step - loss: 0.2903 - acc: 0.8819\n",
      "Epoch 95/100\n",
      "6300/6300 [==============================] - 2s 270us/step - loss: 0.2902 - acc: 0.8803\n",
      "Epoch 96/100\n",
      "6300/6300 [==============================] - 2s 262us/step - loss: 0.2892 - acc: 0.8854\n",
      "Epoch 97/100\n",
      "6300/6300 [==============================] - 2s 267us/step - loss: 0.2880 - acc: 0.8803\n",
      "Epoch 98/100\n",
      "6300/6300 [==============================] - 2s 275us/step - loss: 0.2867 - acc: 0.8860\n",
      "Epoch 99/100\n",
      "6300/6300 [==============================] - 2s 259us/step - loss: 0.2886 - acc: 0.8803\n",
      "Epoch 100/100\n",
      "6300/6300 [==============================] - 2s 270us/step - loss: 0.2875 - acc: 0.8825\n",
      "Epoch 1/100\n",
      "6300/6300 [==============================] - 3s 444us/step - loss: 0.4419 - acc: 0.8141\n",
      "Epoch 2/100\n",
      "6300/6300 [==============================] - 2s 274us/step - loss: 0.3774 - acc: 0.8440\n",
      "Epoch 3/100\n",
      "6300/6300 [==============================] - 2s 271us/step - loss: 0.3606 - acc: 0.8494\n",
      "Epoch 4/100\n",
      "6300/6300 [==============================] - 2s 294us/step - loss: 0.3539 - acc: 0.8537\n",
      "Epoch 5/100\n",
      "6300/6300 [==============================] - 2s 303us/step - loss: 0.3510 - acc: 0.8573\n",
      "Epoch 6/100\n",
      "6300/6300 [==============================] - 2s 361us/step - loss: 0.3486 - acc: 0.8563\n",
      "Epoch 7/100\n",
      "6300/6300 [==============================] - 2s 287us/step - loss: 0.3464 - acc: 0.8573\n",
      "Epoch 8/100\n",
      "6300/6300 [==============================] - 2s 354us/step - loss: 0.3451 - acc: 0.8562\n",
      "Epoch 9/100\n",
      "6300/6300 [==============================] - 2s 286us/step - loss: 0.3429 - acc: 0.8575\n",
      "Epoch 10/100\n",
      "6300/6300 [==============================] - 2s 345us/step - loss: 0.3414 - acc: 0.8594\n",
      "Epoch 11/100\n",
      "6300/6300 [==============================] - 2s 352us/step - loss: 0.3394 - acc: 0.8610\n",
      "Epoch 12/100\n",
      "6300/6300 [==============================] - 2s 330us/step - loss: 0.3397 - acc: 0.8595\n",
      "Epoch 13/100\n",
      "6300/6300 [==============================] - 2s 299us/step - loss: 0.3374 - acc: 0.8648\n",
      "Epoch 14/100\n",
      "6300/6300 [==============================] - 2s 293us/step - loss: 0.3374 - acc: 0.8594\n",
      "Epoch 15/100\n",
      "6300/6300 [==============================] - 2s 327us/step - loss: 0.3353 - acc: 0.8595\n",
      "Epoch 16/100\n",
      "6300/6300 [==============================] - 2s 330us/step - loss: 0.3343 - acc: 0.8652\n",
      "Epoch 17/100\n",
      "4610/6300 [====================>.........] - ETA: 0s - loss: 0.3399 - acc: 0.8573"
     ]
    },
    {
     "ename": "KeyboardInterrupt",
     "evalue": "",
     "output_type": "error",
     "traceback": [
      "\u001b[1;31m---------------------------------------------------------------------------\u001b[0m",
      "\u001b[1;31mKeyboardInterrupt\u001b[0m                         Traceback (most recent call last)",
      "\u001b[1;32m<ipython-input-13-59ba30a66d23>\u001b[0m in \u001b[0;36m<module>\u001b[1;34m\u001b[0m\n\u001b[0;32m     11\u001b[0m \u001b[0mclassifier\u001b[0m\u001b[1;33m=\u001b[0m \u001b[0mKerasClassifier\u001b[0m\u001b[1;33m(\u001b[0m\u001b[0mbuild_fn\u001b[0m\u001b[1;33m=\u001b[0m\u001b[0mbuild_new_classifier\u001b[0m\u001b[1;33m)\u001b[0m\u001b[1;33m\u001b[0m\u001b[1;33m\u001b[0m\u001b[0m\n\u001b[0;32m     12\u001b[0m \u001b[0mgrid_search\u001b[0m\u001b[1;33m=\u001b[0m \u001b[0mGridSearchCV\u001b[0m\u001b[1;33m(\u001b[0m\u001b[0mclassifier\u001b[0m\u001b[1;33m,\u001b[0m\u001b[0mparam_grid\u001b[0m\u001b[1;33m=\u001b[0m\u001b[0mparameters\u001b[0m\u001b[1;33m,\u001b[0m\u001b[0mscoring\u001b[0m\u001b[1;33m=\u001b[0m\u001b[1;34m'accuracy'\u001b[0m\u001b[1;33m,\u001b[0m\u001b[0mcv\u001b[0m\u001b[1;33m=\u001b[0m\u001b[1;36m10\u001b[0m\u001b[1;33m)\u001b[0m\u001b[1;33m\u001b[0m\u001b[1;33m\u001b[0m\u001b[0m\n\u001b[1;32m---> 13\u001b[1;33m \u001b[0mgrid_search\u001b[0m\u001b[1;33m=\u001b[0m\u001b[0mgrid_search\u001b[0m\u001b[1;33m.\u001b[0m\u001b[0mfit\u001b[0m\u001b[1;33m(\u001b[0m\u001b[0mX_train\u001b[0m\u001b[1;33m,\u001b[0m\u001b[0mY_train\u001b[0m\u001b[1;33m)\u001b[0m\u001b[1;33m\u001b[0m\u001b[1;33m\u001b[0m\u001b[0m\n\u001b[0m\u001b[0;32m     14\u001b[0m \u001b[0mbest_params\u001b[0m\u001b[1;33m=\u001b[0m \u001b[0mgrid_search\u001b[0m\u001b[1;33m.\u001b[0m\u001b[0mbest_params_\u001b[0m\u001b[1;33m\u001b[0m\u001b[1;33m\u001b[0m\u001b[0m\n\u001b[0;32m     15\u001b[0m \u001b[0mbest_accuracy\u001b[0m\u001b[1;33m=\u001b[0m \u001b[0mgrid_search\u001b[0m\u001b[1;33m.\u001b[0m\u001b[0mbest_score_\u001b[0m\u001b[1;33m\u001b[0m\u001b[1;33m\u001b[0m\u001b[0m\n",
      "\u001b[1;32m~\\Anaconda3\\lib\\site-packages\\sklearn\\model_selection\\_search.py\u001b[0m in \u001b[0;36mfit\u001b[1;34m(self, X, y, groups, **fit_params)\u001b[0m\n\u001b[0;32m    720\u001b[0m                 \u001b[1;32mreturn\u001b[0m \u001b[0mresults_container\u001b[0m\u001b[1;33m[\u001b[0m\u001b[1;36m0\u001b[0m\u001b[1;33m]\u001b[0m\u001b[1;33m\u001b[0m\u001b[1;33m\u001b[0m\u001b[0m\n\u001b[0;32m    721\u001b[0m \u001b[1;33m\u001b[0m\u001b[0m\n\u001b[1;32m--> 722\u001b[1;33m             \u001b[0mself\u001b[0m\u001b[1;33m.\u001b[0m\u001b[0m_run_search\u001b[0m\u001b[1;33m(\u001b[0m\u001b[0mevaluate_candidates\u001b[0m\u001b[1;33m)\u001b[0m\u001b[1;33m\u001b[0m\u001b[1;33m\u001b[0m\u001b[0m\n\u001b[0m\u001b[0;32m    723\u001b[0m \u001b[1;33m\u001b[0m\u001b[0m\n\u001b[0;32m    724\u001b[0m         \u001b[0mresults\u001b[0m \u001b[1;33m=\u001b[0m \u001b[0mresults_container\u001b[0m\u001b[1;33m[\u001b[0m\u001b[1;36m0\u001b[0m\u001b[1;33m]\u001b[0m\u001b[1;33m\u001b[0m\u001b[1;33m\u001b[0m\u001b[0m\n",
      "\u001b[1;32m~\\Anaconda3\\lib\\site-packages\\sklearn\\model_selection\\_search.py\u001b[0m in \u001b[0;36m_run_search\u001b[1;34m(self, evaluate_candidates)\u001b[0m\n\u001b[0;32m   1189\u001b[0m     \u001b[1;32mdef\u001b[0m \u001b[0m_run_search\u001b[0m\u001b[1;33m(\u001b[0m\u001b[0mself\u001b[0m\u001b[1;33m,\u001b[0m \u001b[0mevaluate_candidates\u001b[0m\u001b[1;33m)\u001b[0m\u001b[1;33m:\u001b[0m\u001b[1;33m\u001b[0m\u001b[1;33m\u001b[0m\u001b[0m\n\u001b[0;32m   1190\u001b[0m         \u001b[1;34m\"\"\"Search all candidates in param_grid\"\"\"\u001b[0m\u001b[1;33m\u001b[0m\u001b[1;33m\u001b[0m\u001b[0m\n\u001b[1;32m-> 1191\u001b[1;33m         \u001b[0mevaluate_candidates\u001b[0m\u001b[1;33m(\u001b[0m\u001b[0mParameterGrid\u001b[0m\u001b[1;33m(\u001b[0m\u001b[0mself\u001b[0m\u001b[1;33m.\u001b[0m\u001b[0mparam_grid\u001b[0m\u001b[1;33m)\u001b[0m\u001b[1;33m)\u001b[0m\u001b[1;33m\u001b[0m\u001b[1;33m\u001b[0m\u001b[0m\n\u001b[0m\u001b[0;32m   1192\u001b[0m \u001b[1;33m\u001b[0m\u001b[0m\n\u001b[0;32m   1193\u001b[0m \u001b[1;33m\u001b[0m\u001b[0m\n",
      "\u001b[1;32m~\\Anaconda3\\lib\\site-packages\\sklearn\\model_selection\\_search.py\u001b[0m in \u001b[0;36mevaluate_candidates\u001b[1;34m(candidate_params)\u001b[0m\n\u001b[0;32m    709\u001b[0m                                \u001b[1;32mfor\u001b[0m \u001b[0mparameters\u001b[0m\u001b[1;33m,\u001b[0m \u001b[1;33m(\u001b[0m\u001b[0mtrain\u001b[0m\u001b[1;33m,\u001b[0m \u001b[0mtest\u001b[0m\u001b[1;33m)\u001b[0m\u001b[1;33m\u001b[0m\u001b[1;33m\u001b[0m\u001b[0m\n\u001b[0;32m    710\u001b[0m                                in product(candidate_params,\n\u001b[1;32m--> 711\u001b[1;33m                                           cv.split(X, y, groups)))\n\u001b[0m\u001b[0;32m    712\u001b[0m \u001b[1;33m\u001b[0m\u001b[0m\n\u001b[0;32m    713\u001b[0m                 \u001b[0mall_candidate_params\u001b[0m\u001b[1;33m.\u001b[0m\u001b[0mextend\u001b[0m\u001b[1;33m(\u001b[0m\u001b[0mcandidate_params\u001b[0m\u001b[1;33m)\u001b[0m\u001b[1;33m\u001b[0m\u001b[1;33m\u001b[0m\u001b[0m\n",
      "\u001b[1;32m~\\Anaconda3\\lib\\site-packages\\sklearn\\externals\\joblib\\parallel.py\u001b[0m in \u001b[0;36m__call__\u001b[1;34m(self, iterable)\u001b[0m\n\u001b[0;32m    918\u001b[0m                 \u001b[0mself\u001b[0m\u001b[1;33m.\u001b[0m\u001b[0m_iterating\u001b[0m \u001b[1;33m=\u001b[0m \u001b[0mself\u001b[0m\u001b[1;33m.\u001b[0m\u001b[0m_original_iterator\u001b[0m \u001b[1;32mis\u001b[0m \u001b[1;32mnot\u001b[0m \u001b[1;32mNone\u001b[0m\u001b[1;33m\u001b[0m\u001b[1;33m\u001b[0m\u001b[0m\n\u001b[0;32m    919\u001b[0m \u001b[1;33m\u001b[0m\u001b[0m\n\u001b[1;32m--> 920\u001b[1;33m             \u001b[1;32mwhile\u001b[0m \u001b[0mself\u001b[0m\u001b[1;33m.\u001b[0m\u001b[0mdispatch_one_batch\u001b[0m\u001b[1;33m(\u001b[0m\u001b[0miterator\u001b[0m\u001b[1;33m)\u001b[0m\u001b[1;33m:\u001b[0m\u001b[1;33m\u001b[0m\u001b[1;33m\u001b[0m\u001b[0m\n\u001b[0m\u001b[0;32m    921\u001b[0m                 \u001b[1;32mpass\u001b[0m\u001b[1;33m\u001b[0m\u001b[1;33m\u001b[0m\u001b[0m\n\u001b[0;32m    922\u001b[0m \u001b[1;33m\u001b[0m\u001b[0m\n",
      "\u001b[1;32m~\\Anaconda3\\lib\\site-packages\\sklearn\\externals\\joblib\\parallel.py\u001b[0m in \u001b[0;36mdispatch_one_batch\u001b[1;34m(self, iterator)\u001b[0m\n\u001b[0;32m    757\u001b[0m                 \u001b[1;32mreturn\u001b[0m \u001b[1;32mFalse\u001b[0m\u001b[1;33m\u001b[0m\u001b[1;33m\u001b[0m\u001b[0m\n\u001b[0;32m    758\u001b[0m             \u001b[1;32melse\u001b[0m\u001b[1;33m:\u001b[0m\u001b[1;33m\u001b[0m\u001b[1;33m\u001b[0m\u001b[0m\n\u001b[1;32m--> 759\u001b[1;33m                 \u001b[0mself\u001b[0m\u001b[1;33m.\u001b[0m\u001b[0m_dispatch\u001b[0m\u001b[1;33m(\u001b[0m\u001b[0mtasks\u001b[0m\u001b[1;33m)\u001b[0m\u001b[1;33m\u001b[0m\u001b[1;33m\u001b[0m\u001b[0m\n\u001b[0m\u001b[0;32m    760\u001b[0m                 \u001b[1;32mreturn\u001b[0m \u001b[1;32mTrue\u001b[0m\u001b[1;33m\u001b[0m\u001b[1;33m\u001b[0m\u001b[0m\n\u001b[0;32m    761\u001b[0m \u001b[1;33m\u001b[0m\u001b[0m\n",
      "\u001b[1;32m~\\Anaconda3\\lib\\site-packages\\sklearn\\externals\\joblib\\parallel.py\u001b[0m in \u001b[0;36m_dispatch\u001b[1;34m(self, batch)\u001b[0m\n\u001b[0;32m    714\u001b[0m         \u001b[1;32mwith\u001b[0m \u001b[0mself\u001b[0m\u001b[1;33m.\u001b[0m\u001b[0m_lock\u001b[0m\u001b[1;33m:\u001b[0m\u001b[1;33m\u001b[0m\u001b[1;33m\u001b[0m\u001b[0m\n\u001b[0;32m    715\u001b[0m             \u001b[0mjob_idx\u001b[0m \u001b[1;33m=\u001b[0m \u001b[0mlen\u001b[0m\u001b[1;33m(\u001b[0m\u001b[0mself\u001b[0m\u001b[1;33m.\u001b[0m\u001b[0m_jobs\u001b[0m\u001b[1;33m)\u001b[0m\u001b[1;33m\u001b[0m\u001b[1;33m\u001b[0m\u001b[0m\n\u001b[1;32m--> 716\u001b[1;33m             \u001b[0mjob\u001b[0m \u001b[1;33m=\u001b[0m \u001b[0mself\u001b[0m\u001b[1;33m.\u001b[0m\u001b[0m_backend\u001b[0m\u001b[1;33m.\u001b[0m\u001b[0mapply_async\u001b[0m\u001b[1;33m(\u001b[0m\u001b[0mbatch\u001b[0m\u001b[1;33m,\u001b[0m \u001b[0mcallback\u001b[0m\u001b[1;33m=\u001b[0m\u001b[0mcb\u001b[0m\u001b[1;33m)\u001b[0m\u001b[1;33m\u001b[0m\u001b[1;33m\u001b[0m\u001b[0m\n\u001b[0m\u001b[0;32m    717\u001b[0m             \u001b[1;31m# A job can complete so quickly than its callback is\u001b[0m\u001b[1;33m\u001b[0m\u001b[1;33m\u001b[0m\u001b[1;33m\u001b[0m\u001b[0m\n\u001b[0;32m    718\u001b[0m             \u001b[1;31m# called before we get here, causing self._jobs to\u001b[0m\u001b[1;33m\u001b[0m\u001b[1;33m\u001b[0m\u001b[1;33m\u001b[0m\u001b[0m\n",
      "\u001b[1;32m~\\Anaconda3\\lib\\site-packages\\sklearn\\externals\\joblib\\_parallel_backends.py\u001b[0m in \u001b[0;36mapply_async\u001b[1;34m(self, func, callback)\u001b[0m\n\u001b[0;32m    180\u001b[0m     \u001b[1;32mdef\u001b[0m \u001b[0mapply_async\u001b[0m\u001b[1;33m(\u001b[0m\u001b[0mself\u001b[0m\u001b[1;33m,\u001b[0m \u001b[0mfunc\u001b[0m\u001b[1;33m,\u001b[0m \u001b[0mcallback\u001b[0m\u001b[1;33m=\u001b[0m\u001b[1;32mNone\u001b[0m\u001b[1;33m)\u001b[0m\u001b[1;33m:\u001b[0m\u001b[1;33m\u001b[0m\u001b[1;33m\u001b[0m\u001b[0m\n\u001b[0;32m    181\u001b[0m         \u001b[1;34m\"\"\"Schedule a func to be run\"\"\"\u001b[0m\u001b[1;33m\u001b[0m\u001b[1;33m\u001b[0m\u001b[0m\n\u001b[1;32m--> 182\u001b[1;33m         \u001b[0mresult\u001b[0m \u001b[1;33m=\u001b[0m \u001b[0mImmediateResult\u001b[0m\u001b[1;33m(\u001b[0m\u001b[0mfunc\u001b[0m\u001b[1;33m)\u001b[0m\u001b[1;33m\u001b[0m\u001b[1;33m\u001b[0m\u001b[0m\n\u001b[0m\u001b[0;32m    183\u001b[0m         \u001b[1;32mif\u001b[0m \u001b[0mcallback\u001b[0m\u001b[1;33m:\u001b[0m\u001b[1;33m\u001b[0m\u001b[1;33m\u001b[0m\u001b[0m\n\u001b[0;32m    184\u001b[0m             \u001b[0mcallback\u001b[0m\u001b[1;33m(\u001b[0m\u001b[0mresult\u001b[0m\u001b[1;33m)\u001b[0m\u001b[1;33m\u001b[0m\u001b[1;33m\u001b[0m\u001b[0m\n",
      "\u001b[1;32m~\\Anaconda3\\lib\\site-packages\\sklearn\\externals\\joblib\\_parallel_backends.py\u001b[0m in \u001b[0;36m__init__\u001b[1;34m(self, batch)\u001b[0m\n\u001b[0;32m    547\u001b[0m         \u001b[1;31m# Don't delay the application, to avoid keeping the input\u001b[0m\u001b[1;33m\u001b[0m\u001b[1;33m\u001b[0m\u001b[1;33m\u001b[0m\u001b[0m\n\u001b[0;32m    548\u001b[0m         \u001b[1;31m# arguments in memory\u001b[0m\u001b[1;33m\u001b[0m\u001b[1;33m\u001b[0m\u001b[1;33m\u001b[0m\u001b[0m\n\u001b[1;32m--> 549\u001b[1;33m         \u001b[0mself\u001b[0m\u001b[1;33m.\u001b[0m\u001b[0mresults\u001b[0m \u001b[1;33m=\u001b[0m \u001b[0mbatch\u001b[0m\u001b[1;33m(\u001b[0m\u001b[1;33m)\u001b[0m\u001b[1;33m\u001b[0m\u001b[1;33m\u001b[0m\u001b[0m\n\u001b[0m\u001b[0;32m    550\u001b[0m \u001b[1;33m\u001b[0m\u001b[0m\n\u001b[0;32m    551\u001b[0m     \u001b[1;32mdef\u001b[0m \u001b[0mget\u001b[0m\u001b[1;33m(\u001b[0m\u001b[0mself\u001b[0m\u001b[1;33m)\u001b[0m\u001b[1;33m:\u001b[0m\u001b[1;33m\u001b[0m\u001b[1;33m\u001b[0m\u001b[0m\n",
      "\u001b[1;32m~\\Anaconda3\\lib\\site-packages\\sklearn\\externals\\joblib\\parallel.py\u001b[0m in \u001b[0;36m__call__\u001b[1;34m(self)\u001b[0m\n\u001b[0;32m    223\u001b[0m         \u001b[1;32mwith\u001b[0m \u001b[0mparallel_backend\u001b[0m\u001b[1;33m(\u001b[0m\u001b[0mself\u001b[0m\u001b[1;33m.\u001b[0m\u001b[0m_backend\u001b[0m\u001b[1;33m,\u001b[0m \u001b[0mn_jobs\u001b[0m\u001b[1;33m=\u001b[0m\u001b[0mself\u001b[0m\u001b[1;33m.\u001b[0m\u001b[0m_n_jobs\u001b[0m\u001b[1;33m)\u001b[0m\u001b[1;33m:\u001b[0m\u001b[1;33m\u001b[0m\u001b[1;33m\u001b[0m\u001b[0m\n\u001b[0;32m    224\u001b[0m             return [func(*args, **kwargs)\n\u001b[1;32m--> 225\u001b[1;33m                     for func, args, kwargs in self.items]\n\u001b[0m\u001b[0;32m    226\u001b[0m \u001b[1;33m\u001b[0m\u001b[0m\n\u001b[0;32m    227\u001b[0m     \u001b[1;32mdef\u001b[0m \u001b[0m__len__\u001b[0m\u001b[1;33m(\u001b[0m\u001b[0mself\u001b[0m\u001b[1;33m)\u001b[0m\u001b[1;33m:\u001b[0m\u001b[1;33m\u001b[0m\u001b[1;33m\u001b[0m\u001b[0m\n",
      "\u001b[1;32m~\\Anaconda3\\lib\\site-packages\\sklearn\\externals\\joblib\\parallel.py\u001b[0m in \u001b[0;36m<listcomp>\u001b[1;34m(.0)\u001b[0m\n\u001b[0;32m    223\u001b[0m         \u001b[1;32mwith\u001b[0m \u001b[0mparallel_backend\u001b[0m\u001b[1;33m(\u001b[0m\u001b[0mself\u001b[0m\u001b[1;33m.\u001b[0m\u001b[0m_backend\u001b[0m\u001b[1;33m,\u001b[0m \u001b[0mn_jobs\u001b[0m\u001b[1;33m=\u001b[0m\u001b[0mself\u001b[0m\u001b[1;33m.\u001b[0m\u001b[0m_n_jobs\u001b[0m\u001b[1;33m)\u001b[0m\u001b[1;33m:\u001b[0m\u001b[1;33m\u001b[0m\u001b[1;33m\u001b[0m\u001b[0m\n\u001b[0;32m    224\u001b[0m             return [func(*args, **kwargs)\n\u001b[1;32m--> 225\u001b[1;33m                     for func, args, kwargs in self.items]\n\u001b[0m\u001b[0;32m    226\u001b[0m \u001b[1;33m\u001b[0m\u001b[0m\n\u001b[0;32m    227\u001b[0m     \u001b[1;32mdef\u001b[0m \u001b[0m__len__\u001b[0m\u001b[1;33m(\u001b[0m\u001b[0mself\u001b[0m\u001b[1;33m)\u001b[0m\u001b[1;33m:\u001b[0m\u001b[1;33m\u001b[0m\u001b[1;33m\u001b[0m\u001b[0m\n",
      "\u001b[1;32m~\\Anaconda3\\lib\\site-packages\\sklearn\\model_selection\\_validation.py\u001b[0m in \u001b[0;36m_fit_and_score\u001b[1;34m(estimator, X, y, scorer, train, test, verbose, parameters, fit_params, return_train_score, return_parameters, return_n_test_samples, return_times, return_estimator, error_score)\u001b[0m\n\u001b[0;32m    526\u001b[0m             \u001b[0mestimator\u001b[0m\u001b[1;33m.\u001b[0m\u001b[0mfit\u001b[0m\u001b[1;33m(\u001b[0m\u001b[0mX_train\u001b[0m\u001b[1;33m,\u001b[0m \u001b[1;33m**\u001b[0m\u001b[0mfit_params\u001b[0m\u001b[1;33m)\u001b[0m\u001b[1;33m\u001b[0m\u001b[1;33m\u001b[0m\u001b[0m\n\u001b[0;32m    527\u001b[0m         \u001b[1;32melse\u001b[0m\u001b[1;33m:\u001b[0m\u001b[1;33m\u001b[0m\u001b[1;33m\u001b[0m\u001b[0m\n\u001b[1;32m--> 528\u001b[1;33m             \u001b[0mestimator\u001b[0m\u001b[1;33m.\u001b[0m\u001b[0mfit\u001b[0m\u001b[1;33m(\u001b[0m\u001b[0mX_train\u001b[0m\u001b[1;33m,\u001b[0m \u001b[0my_train\u001b[0m\u001b[1;33m,\u001b[0m \u001b[1;33m**\u001b[0m\u001b[0mfit_params\u001b[0m\u001b[1;33m)\u001b[0m\u001b[1;33m\u001b[0m\u001b[1;33m\u001b[0m\u001b[0m\n\u001b[0m\u001b[0;32m    529\u001b[0m \u001b[1;33m\u001b[0m\u001b[0m\n\u001b[0;32m    530\u001b[0m     \u001b[1;32mexcept\u001b[0m \u001b[0mException\u001b[0m \u001b[1;32mas\u001b[0m \u001b[0me\u001b[0m\u001b[1;33m:\u001b[0m\u001b[1;33m\u001b[0m\u001b[1;33m\u001b[0m\u001b[0m\n",
      "\u001b[1;32m~\\Anaconda3\\lib\\site-packages\\keras\\wrappers\\scikit_learn.py\u001b[0m in \u001b[0;36mfit\u001b[1;34m(self, x, y, sample_weight, **kwargs)\u001b[0m\n\u001b[0;32m    208\u001b[0m         \u001b[1;32mif\u001b[0m \u001b[0msample_weight\u001b[0m \u001b[1;32mis\u001b[0m \u001b[1;32mnot\u001b[0m \u001b[1;32mNone\u001b[0m\u001b[1;33m:\u001b[0m\u001b[1;33m\u001b[0m\u001b[1;33m\u001b[0m\u001b[0m\n\u001b[0;32m    209\u001b[0m             \u001b[0mkwargs\u001b[0m\u001b[1;33m[\u001b[0m\u001b[1;34m'sample_weight'\u001b[0m\u001b[1;33m]\u001b[0m \u001b[1;33m=\u001b[0m \u001b[0msample_weight\u001b[0m\u001b[1;33m\u001b[0m\u001b[1;33m\u001b[0m\u001b[0m\n\u001b[1;32m--> 210\u001b[1;33m         \u001b[1;32mreturn\u001b[0m \u001b[0msuper\u001b[0m\u001b[1;33m(\u001b[0m\u001b[0mKerasClassifier\u001b[0m\u001b[1;33m,\u001b[0m \u001b[0mself\u001b[0m\u001b[1;33m)\u001b[0m\u001b[1;33m.\u001b[0m\u001b[0mfit\u001b[0m\u001b[1;33m(\u001b[0m\u001b[0mx\u001b[0m\u001b[1;33m,\u001b[0m \u001b[0my\u001b[0m\u001b[1;33m,\u001b[0m \u001b[1;33m**\u001b[0m\u001b[0mkwargs\u001b[0m\u001b[1;33m)\u001b[0m\u001b[1;33m\u001b[0m\u001b[1;33m\u001b[0m\u001b[0m\n\u001b[0m\u001b[0;32m    211\u001b[0m \u001b[1;33m\u001b[0m\u001b[0m\n\u001b[0;32m    212\u001b[0m     \u001b[1;32mdef\u001b[0m \u001b[0mpredict\u001b[0m\u001b[1;33m(\u001b[0m\u001b[0mself\u001b[0m\u001b[1;33m,\u001b[0m \u001b[0mx\u001b[0m\u001b[1;33m,\u001b[0m \u001b[1;33m**\u001b[0m\u001b[0mkwargs\u001b[0m\u001b[1;33m)\u001b[0m\u001b[1;33m:\u001b[0m\u001b[1;33m\u001b[0m\u001b[1;33m\u001b[0m\u001b[0m\n",
      "\u001b[1;32m~\\Anaconda3\\lib\\site-packages\\keras\\wrappers\\scikit_learn.py\u001b[0m in \u001b[0;36mfit\u001b[1;34m(self, x, y, **kwargs)\u001b[0m\n\u001b[0;32m    150\u001b[0m         \u001b[0mfit_args\u001b[0m\u001b[1;33m.\u001b[0m\u001b[0mupdate\u001b[0m\u001b[1;33m(\u001b[0m\u001b[0mkwargs\u001b[0m\u001b[1;33m)\u001b[0m\u001b[1;33m\u001b[0m\u001b[1;33m\u001b[0m\u001b[0m\n\u001b[0;32m    151\u001b[0m \u001b[1;33m\u001b[0m\u001b[0m\n\u001b[1;32m--> 152\u001b[1;33m         \u001b[0mhistory\u001b[0m \u001b[1;33m=\u001b[0m \u001b[0mself\u001b[0m\u001b[1;33m.\u001b[0m\u001b[0mmodel\u001b[0m\u001b[1;33m.\u001b[0m\u001b[0mfit\u001b[0m\u001b[1;33m(\u001b[0m\u001b[0mx\u001b[0m\u001b[1;33m,\u001b[0m \u001b[0my\u001b[0m\u001b[1;33m,\u001b[0m \u001b[1;33m**\u001b[0m\u001b[0mfit_args\u001b[0m\u001b[1;33m)\u001b[0m\u001b[1;33m\u001b[0m\u001b[1;33m\u001b[0m\u001b[0m\n\u001b[0m\u001b[0;32m    153\u001b[0m \u001b[1;33m\u001b[0m\u001b[0m\n\u001b[0;32m    154\u001b[0m         \u001b[1;32mreturn\u001b[0m \u001b[0mhistory\u001b[0m\u001b[1;33m\u001b[0m\u001b[1;33m\u001b[0m\u001b[0m\n",
      "\u001b[1;32m~\\Anaconda3\\lib\\site-packages\\keras\\engine\\training.py\u001b[0m in \u001b[0;36mfit\u001b[1;34m(self, x, y, batch_size, epochs, verbose, callbacks, validation_split, validation_data, shuffle, class_weight, sample_weight, initial_epoch, steps_per_epoch, validation_steps, **kwargs)\u001b[0m\n\u001b[0;32m   1037\u001b[0m                                         \u001b[0minitial_epoch\u001b[0m\u001b[1;33m=\u001b[0m\u001b[0minitial_epoch\u001b[0m\u001b[1;33m,\u001b[0m\u001b[1;33m\u001b[0m\u001b[1;33m\u001b[0m\u001b[0m\n\u001b[0;32m   1038\u001b[0m                                         \u001b[0msteps_per_epoch\u001b[0m\u001b[1;33m=\u001b[0m\u001b[0msteps_per_epoch\u001b[0m\u001b[1;33m,\u001b[0m\u001b[1;33m\u001b[0m\u001b[1;33m\u001b[0m\u001b[0m\n\u001b[1;32m-> 1039\u001b[1;33m                                         validation_steps=validation_steps)\n\u001b[0m\u001b[0;32m   1040\u001b[0m \u001b[1;33m\u001b[0m\u001b[0m\n\u001b[0;32m   1041\u001b[0m     def evaluate(self, x=None, y=None,\n",
      "\u001b[1;32m~\\Anaconda3\\lib\\site-packages\\keras\\engine\\training_arrays.py\u001b[0m in \u001b[0;36mfit_loop\u001b[1;34m(model, f, ins, out_labels, batch_size, epochs, verbose, callbacks, val_f, val_ins, shuffle, callback_metrics, initial_epoch, steps_per_epoch, validation_steps)\u001b[0m\n\u001b[0;32m    197\u001b[0m                     \u001b[0mins_batch\u001b[0m\u001b[1;33m[\u001b[0m\u001b[0mi\u001b[0m\u001b[1;33m]\u001b[0m \u001b[1;33m=\u001b[0m \u001b[0mins_batch\u001b[0m\u001b[1;33m[\u001b[0m\u001b[0mi\u001b[0m\u001b[1;33m]\u001b[0m\u001b[1;33m.\u001b[0m\u001b[0mtoarray\u001b[0m\u001b[1;33m(\u001b[0m\u001b[1;33m)\u001b[0m\u001b[1;33m\u001b[0m\u001b[1;33m\u001b[0m\u001b[0m\n\u001b[0;32m    198\u001b[0m \u001b[1;33m\u001b[0m\u001b[0m\n\u001b[1;32m--> 199\u001b[1;33m                 \u001b[0mouts\u001b[0m \u001b[1;33m=\u001b[0m \u001b[0mf\u001b[0m\u001b[1;33m(\u001b[0m\u001b[0mins_batch\u001b[0m\u001b[1;33m)\u001b[0m\u001b[1;33m\u001b[0m\u001b[1;33m\u001b[0m\u001b[0m\n\u001b[0m\u001b[0;32m    200\u001b[0m                 \u001b[0mouts\u001b[0m \u001b[1;33m=\u001b[0m \u001b[0mto_list\u001b[0m\u001b[1;33m(\u001b[0m\u001b[0mouts\u001b[0m\u001b[1;33m)\u001b[0m\u001b[1;33m\u001b[0m\u001b[1;33m\u001b[0m\u001b[0m\n\u001b[0;32m    201\u001b[0m                 \u001b[1;32mfor\u001b[0m \u001b[0ml\u001b[0m\u001b[1;33m,\u001b[0m \u001b[0mo\u001b[0m \u001b[1;32min\u001b[0m \u001b[0mzip\u001b[0m\u001b[1;33m(\u001b[0m\u001b[0mout_labels\u001b[0m\u001b[1;33m,\u001b[0m \u001b[0mouts\u001b[0m\u001b[1;33m)\u001b[0m\u001b[1;33m:\u001b[0m\u001b[1;33m\u001b[0m\u001b[1;33m\u001b[0m\u001b[0m\n",
      "\u001b[1;32m~\\Anaconda3\\lib\\site-packages\\keras\\backend\\tensorflow_backend.py\u001b[0m in \u001b[0;36m__call__\u001b[1;34m(self, inputs)\u001b[0m\n\u001b[0;32m   2713\u001b[0m                 \u001b[1;32mreturn\u001b[0m \u001b[0mself\u001b[0m\u001b[1;33m.\u001b[0m\u001b[0m_legacy_call\u001b[0m\u001b[1;33m(\u001b[0m\u001b[0minputs\u001b[0m\u001b[1;33m)\u001b[0m\u001b[1;33m\u001b[0m\u001b[1;33m\u001b[0m\u001b[0m\n\u001b[0;32m   2714\u001b[0m \u001b[1;33m\u001b[0m\u001b[0m\n\u001b[1;32m-> 2715\u001b[1;33m             \u001b[1;32mreturn\u001b[0m \u001b[0mself\u001b[0m\u001b[1;33m.\u001b[0m\u001b[0m_call\u001b[0m\u001b[1;33m(\u001b[0m\u001b[0minputs\u001b[0m\u001b[1;33m)\u001b[0m\u001b[1;33m\u001b[0m\u001b[1;33m\u001b[0m\u001b[0m\n\u001b[0m\u001b[0;32m   2716\u001b[0m         \u001b[1;32melse\u001b[0m\u001b[1;33m:\u001b[0m\u001b[1;33m\u001b[0m\u001b[1;33m\u001b[0m\u001b[0m\n\u001b[0;32m   2717\u001b[0m             \u001b[1;32mif\u001b[0m \u001b[0mpy_any\u001b[0m\u001b[1;33m(\u001b[0m\u001b[0mis_tensor\u001b[0m\u001b[1;33m(\u001b[0m\u001b[0mx\u001b[0m\u001b[1;33m)\u001b[0m \u001b[1;32mfor\u001b[0m \u001b[0mx\u001b[0m \u001b[1;32min\u001b[0m \u001b[0minputs\u001b[0m\u001b[1;33m)\u001b[0m\u001b[1;33m:\u001b[0m\u001b[1;33m\u001b[0m\u001b[1;33m\u001b[0m\u001b[0m\n",
      "\u001b[1;32m~\\Anaconda3\\lib\\site-packages\\keras\\backend\\tensorflow_backend.py\u001b[0m in \u001b[0;36m_call\u001b[1;34m(self, inputs)\u001b[0m\n\u001b[0;32m   2673\u001b[0m             \u001b[0mfetched\u001b[0m \u001b[1;33m=\u001b[0m \u001b[0mself\u001b[0m\u001b[1;33m.\u001b[0m\u001b[0m_callable_fn\u001b[0m\u001b[1;33m(\u001b[0m\u001b[1;33m*\u001b[0m\u001b[0marray_vals\u001b[0m\u001b[1;33m,\u001b[0m \u001b[0mrun_metadata\u001b[0m\u001b[1;33m=\u001b[0m\u001b[0mself\u001b[0m\u001b[1;33m.\u001b[0m\u001b[0mrun_metadata\u001b[0m\u001b[1;33m)\u001b[0m\u001b[1;33m\u001b[0m\u001b[1;33m\u001b[0m\u001b[0m\n\u001b[0;32m   2674\u001b[0m         \u001b[1;32melse\u001b[0m\u001b[1;33m:\u001b[0m\u001b[1;33m\u001b[0m\u001b[1;33m\u001b[0m\u001b[0m\n\u001b[1;32m-> 2675\u001b[1;33m             \u001b[0mfetched\u001b[0m \u001b[1;33m=\u001b[0m \u001b[0mself\u001b[0m\u001b[1;33m.\u001b[0m\u001b[0m_callable_fn\u001b[0m\u001b[1;33m(\u001b[0m\u001b[1;33m*\u001b[0m\u001b[0marray_vals\u001b[0m\u001b[1;33m)\u001b[0m\u001b[1;33m\u001b[0m\u001b[1;33m\u001b[0m\u001b[0m\n\u001b[0m\u001b[0;32m   2676\u001b[0m         \u001b[1;32mreturn\u001b[0m \u001b[0mfetched\u001b[0m\u001b[1;33m[\u001b[0m\u001b[1;33m:\u001b[0m\u001b[0mlen\u001b[0m\u001b[1;33m(\u001b[0m\u001b[0mself\u001b[0m\u001b[1;33m.\u001b[0m\u001b[0moutputs\u001b[0m\u001b[1;33m)\u001b[0m\u001b[1;33m]\u001b[0m\u001b[1;33m\u001b[0m\u001b[1;33m\u001b[0m\u001b[0m\n\u001b[0;32m   2677\u001b[0m \u001b[1;33m\u001b[0m\u001b[0m\n",
      "\u001b[1;32m~\\Anaconda3\\lib\\site-packages\\tensorflow\\python\\client\\session.py\u001b[0m in \u001b[0;36m__call__\u001b[1;34m(self, *args, **kwargs)\u001b[0m\n\u001b[0;32m   1437\u001b[0m           ret = tf_session.TF_SessionRunCallable(\n\u001b[0;32m   1438\u001b[0m               \u001b[0mself\u001b[0m\u001b[1;33m.\u001b[0m\u001b[0m_session\u001b[0m\u001b[1;33m.\u001b[0m\u001b[0m_session\u001b[0m\u001b[1;33m,\u001b[0m \u001b[0mself\u001b[0m\u001b[1;33m.\u001b[0m\u001b[0m_handle\u001b[0m\u001b[1;33m,\u001b[0m \u001b[0margs\u001b[0m\u001b[1;33m,\u001b[0m \u001b[0mstatus\u001b[0m\u001b[1;33m,\u001b[0m\u001b[1;33m\u001b[0m\u001b[1;33m\u001b[0m\u001b[0m\n\u001b[1;32m-> 1439\u001b[1;33m               run_metadata_ptr)\n\u001b[0m\u001b[0;32m   1440\u001b[0m         \u001b[1;32mif\u001b[0m \u001b[0mrun_metadata\u001b[0m\u001b[1;33m:\u001b[0m\u001b[1;33m\u001b[0m\u001b[1;33m\u001b[0m\u001b[0m\n\u001b[0;32m   1441\u001b[0m           \u001b[0mproto_data\u001b[0m \u001b[1;33m=\u001b[0m \u001b[0mtf_session\u001b[0m\u001b[1;33m.\u001b[0m\u001b[0mTF_GetBuffer\u001b[0m\u001b[1;33m(\u001b[0m\u001b[0mrun_metadata_ptr\u001b[0m\u001b[1;33m)\u001b[0m\u001b[1;33m\u001b[0m\u001b[1;33m\u001b[0m\u001b[0m\n",
      "\u001b[1;31mKeyboardInterrupt\u001b[0m: "
     ]
    }
   ],
   "source": [
    "def build_new_classifier(optimizer):     ### whichever parameter you want to be tuned from this function should be taken as an argument\n",
    "    classifier=Sequential()\n",
    "    classifier.add(Dense(30,input_dim= 9,activation='relu',init='uniform'))\n",
    "    classifier.add(Dense(36,activation='relu'))\n",
    "    classifier.add(Dense(1,activation='sigmoid'))\n",
    "    classifier.compile(optimizer=optimizer,loss='binary_crossentropy',metrics=['accuracy'])\n",
    "    return classifier\n",
    "\n",
    "parameters= {'batch_size':[10,20,30], 'epochs':[100,200,300]\n",
    "            ,'optimizer':['adam','rmsprop']}\n",
    "classifier= KerasClassifier(build_fn=build_new_classifier)\n",
    "grid_search= GridSearchCV(classifier,param_grid=parameters,scoring='accuracy',cv=10)\n",
    "grid_search=grid_search.fit(X_train,Y_train)\n",
    "best_params= grid_search.best_params_\n",
    "best_accuracy= grid_search.best_score_"
   ]
  },
  {
   "cell_type": "markdown",
   "metadata": {},
   "source": [
    "## Using TensorFlow\n",
    "\n",
    "1. Using Estimator API\n",
    "\n",
    "2. Simple Tensorflow   (code given by DataScience365 Course)"
   ]
  },
  {
   "cell_type": "code",
   "execution_count": null,
   "metadata": {},
   "outputs": [],
   "source": []
  }
 ],
 "metadata": {
  "kernelspec": {
   "display_name": "Python 3",
   "language": "python",
   "name": "python3"
  },
  "language_info": {
   "codemirror_mode": {
    "name": "ipython",
    "version": 3
   },
   "file_extension": ".py",
   "mimetype": "text/x-python",
   "name": "python",
   "nbconvert_exporter": "python",
   "pygments_lexer": "ipython3",
   "version": "3.7.3"
  }
 },
 "nbformat": 4,
 "nbformat_minor": 2
}
