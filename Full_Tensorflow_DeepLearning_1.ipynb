{
 "cells": [
  {
   "cell_type": "markdown",
   "metadata": {},
   "source": [
    "### Building a Graph"
   ]
  },
  {
   "cell_type": "code",
   "execution_count": 1,
   "metadata": {},
   "outputs": [],
   "source": [
    "import tensorflow as tf\n",
    "import pandas as pd"
   ]
  },
  {
   "cell_type": "code",
   "execution_count": 2,
   "metadata": {},
   "outputs": [],
   "source": [
    "a= tf.constant([2])"
   ]
  },
  {
   "cell_type": "code",
   "execution_count": 3,
   "metadata": {},
   "outputs": [],
   "source": [
    "b=tf.constant([3])"
   ]
  },
  {
   "cell_type": "code",
   "execution_count": 4,
   "metadata": {},
   "outputs": [],
   "source": [
    "c= tf.add(a,b)"
   ]
  },
  {
   "cell_type": "code",
   "execution_count": 5,
   "metadata": {},
   "outputs": [],
   "source": [
    "sess= tf.Session()"
   ]
  },
  {
   "cell_type": "code",
   "execution_count": 6,
   "metadata": {},
   "outputs": [
    {
     "data": {
      "text/plain": [
       "array([5])"
      ]
     },
     "execution_count": 6,
     "metadata": {},
     "output_type": "execute_result"
    }
   ],
   "source": [
    "sess.run(c)"
   ]
  },
  {
   "cell_type": "code",
   "execution_count": 7,
   "metadata": {},
   "outputs": [],
   "source": [
    "sess.close()"
   ]
  },
  {
   "cell_type": "markdown",
   "metadata": {},
   "source": [
    "To avoid closing the session everytime use With...as"
   ]
  },
  {
   "cell_type": "code",
   "execution_count": 8,
   "metadata": {},
   "outputs": [
    {
     "name": "stdout",
     "output_type": "stream",
     "text": [
      "[5]\n"
     ]
    }
   ],
   "source": [
    "with tf.Session() as sess:\n",
    "    result=sess.run(c)\n",
    "    print(result)"
   ]
  },
  {
   "cell_type": "markdown",
   "metadata": {},
   "source": [
    "### Deep Learning with tensorflow"
   ]
  },
  {
   "cell_type": "markdown",
   "metadata": {},
   "source": [
    "[Link to Youtube Course](https://www.youtube.com/watch?v=BhpvH5DuVu8&list=PLSPWNkAMSvv5DKeSVDbEbUKSsK4Z-GgiP&index=4&t=0s)"
   ]
  },
  {
   "cell_type": "markdown",
   "metadata": {},
   "source": [
    "\"\"\" Feed Forward Propagation \"\"\"\n",
    "\n",
    "Variables > Weights > Input layer > activation function > weights > Hidden Layer 1 > activation function>\n",
    "\n",
    ".....................> weights > Output layer\n",
    "\n",
    "\"\"\" Backpropagtion \"\"\"\n",
    "\n",
    "Compare predicted value with target value > Loss/cost fucntion\n",
    "\n",
    "Optimizer reduces the cost function and improve the weights\n",
    "\n",
    "> Feed Forward + Backpropagation = one epoch"
   ]
  },
  {
   "cell_type": "code",
   "execution_count": 11,
   "metadata": {},
   "outputs": [
    {
     "name": "stdout",
     "output_type": "stream",
     "text": [
      "WARNING:tensorflow:From <ipython-input-11-0ce7c88ecc8c>:2: read_data_sets (from tensorflow.contrib.learn.python.learn.datasets.mnist) is deprecated and will be removed in a future version.\n",
      "Instructions for updating:\n",
      "Please use alternatives such as official/mnist/dataset.py from tensorflow/models.\n",
      "WARNING:tensorflow:From C:\\Users\\ACER M5\\Anaconda3\\envs\\tf-gpu\\lib\\site-packages\\tensorflow\\contrib\\learn\\python\\learn\\datasets\\mnist.py:260: maybe_download (from tensorflow.contrib.learn.python.learn.datasets.base) is deprecated and will be removed in a future version.\n",
      "Instructions for updating:\n",
      "Please write your own downloading logic.\n",
      "WARNING:tensorflow:From C:\\Users\\ACER M5\\Anaconda3\\envs\\tf-gpu\\lib\\site-packages\\tensorflow\\contrib\\learn\\python\\learn\\datasets\\base.py:252: _internal_retry.<locals>.wrap.<locals>.wrapped_fn (from tensorflow.contrib.learn.python.learn.datasets.base) is deprecated and will be removed in a future version.\n",
      "Instructions for updating:\n",
      "Please use urllib or similar directly.\n",
      "Successfully downloaded train-images-idx3-ubyte.gz 9912422 bytes.\n",
      "WARNING:tensorflow:From C:\\Users\\ACER M5\\Anaconda3\\envs\\tf-gpu\\lib\\site-packages\\tensorflow\\contrib\\learn\\python\\learn\\datasets\\mnist.py:262: extract_images (from tensorflow.contrib.learn.python.learn.datasets.mnist) is deprecated and will be removed in a future version.\n",
      "Instructions for updating:\n",
      "Please use tf.data to implement this functionality.\n",
      "Extracting /Mnist_data\\train-images-idx3-ubyte.gz\n",
      "Successfully downloaded train-labels-idx1-ubyte.gz 28881 bytes.\n",
      "WARNING:tensorflow:From C:\\Users\\ACER M5\\Anaconda3\\envs\\tf-gpu\\lib\\site-packages\\tensorflow\\contrib\\learn\\python\\learn\\datasets\\mnist.py:267: extract_labels (from tensorflow.contrib.learn.python.learn.datasets.mnist) is deprecated and will be removed in a future version.\n",
      "Instructions for updating:\n",
      "Please use tf.data to implement this functionality.\n",
      "Extracting /Mnist_data\\train-labels-idx1-ubyte.gz\n",
      "WARNING:tensorflow:From C:\\Users\\ACER M5\\Anaconda3\\envs\\tf-gpu\\lib\\site-packages\\tensorflow\\contrib\\learn\\python\\learn\\datasets\\mnist.py:110: dense_to_one_hot (from tensorflow.contrib.learn.python.learn.datasets.mnist) is deprecated and will be removed in a future version.\n",
      "Instructions for updating:\n",
      "Please use tf.one_hot on tensors.\n",
      "Successfully downloaded t10k-images-idx3-ubyte.gz 1648877 bytes.\n",
      "Extracting /Mnist_data\\t10k-images-idx3-ubyte.gz\n",
      "Successfully downloaded t10k-labels-idx1-ubyte.gz 4542 bytes.\n",
      "Extracting /Mnist_data\\t10k-labels-idx1-ubyte.gz\n",
      "WARNING:tensorflow:From C:\\Users\\ACER M5\\Anaconda3\\envs\\tf-gpu\\lib\\site-packages\\tensorflow\\contrib\\learn\\python\\learn\\datasets\\mnist.py:290: DataSet.__init__ (from tensorflow.contrib.learn.python.learn.datasets.mnist) is deprecated and will be removed in a future version.\n",
      "Instructions for updating:\n",
      "Please use alternatives such as official/mnist/dataset.py from tensorflow/models.\n"
     ]
    }
   ],
   "source": [
    "from tensorflow.examples.tutorials.mnist import input_data\n",
    "mnist= input_data.read_data_sets('/Mnist_data',one_hot=True)"
   ]
  },
  {
   "cell_type": "code",
   "execution_count": 19,
   "metadata": {},
   "outputs": [],
   "source": [
    "hidden_layer_1_units= 500\n",
    "hidden_layer_2_units= 500\n",
    "hidden_layer_3_units= 500\n",
    "\n",
    "n_classes= 10\n",
    "batch_size= 100"
   ]
  },
  {
   "cell_type": "code",
   "execution_count": 29,
   "metadata": {},
   "outputs": [],
   "source": [
    "x= tf.placeholder('float')\n",
    "y= tf.placeholder('float')"
   ]
  },
  {
   "cell_type": "code",
   "execution_count": 23,
   "metadata": {},
   "outputs": [],
   "source": [
    "### (weights * X (inputs) + Biases)\n",
    "\n",
    "\n",
    "def neural_network_model(data):\n",
    "    \n",
    "    hidden_layer_1= {'weights':tf.Variable(tf.random_normal([784,hidden_layer_1_units])),\n",
    "                     'biases':tf.Variable(tf.random_normal([hidden_layer_1_units]))}\n",
    "    \n",
    "    \n",
    "    hidden_layer_2= {'weights':tf.Variable(tf.random_normal([hidden_layer_1_units,hidden_layer_2_units])),\n",
    "                     'biases':tf.Variable(tf.random_normal([hidden_layer_2_units]))}\n",
    "    \n",
    "    \n",
    "    hidden_layer_3= {'weights':tf.Variable(tf.random_normal([hidden_layer_2_units,hidden_layer_3_units])),\n",
    "                     'biases':tf.Variable(tf.random_normal([hidden_layer_3_units]))}\n",
    "    \n",
    "    \n",
    "    output_layer= {'weights':tf.Variable(tf.random_normal([hidden_layer_3_units,n_classes])),\n",
    "                     'biases':tf.Variable(tf.random_normal([n_classes]))}\n",
    "    \n",
    "    layer_1 = tf.add(tf.matmul(data,hidden_layer_1['weights']) , hidden_layer_1['biases'])\n",
    "    activation_1= tf.nn.relu(layer_1)\n",
    "    \n",
    "    \n",
    "    layer_2 = tf.add(tf.matmul(activation_1,hidden_layer_2['weights']) , hidden_layer_2['biases'])\n",
    "    activation_2= tf.nn.relu(layer_2)\n",
    "    \n",
    "    \n",
    "    layer_3 = tf.add(tf.matmul(activation_2,hidden_layer_3['weights']) , hidden_layer_3['biases'])\n",
    "    activation_3= tf.nn.relu(layer_3)\n",
    "    \n",
    "    \n",
    "    output_layer = tf.matmul(activation_3,output_layer['weights']) + output_layer['biases']\n",
    "    \n",
    "    return output_layer"
   ]
  },
  {
   "cell_type": "code",
   "execution_count": 33,
   "metadata": {},
   "outputs": [
    {
     "name": "stdout",
     "output_type": "stream",
     "text": [
      "Epoch 0 completed out of 10 Loss 1630397.9813995361\n",
      "Epoch 1 completed out of 10 Loss 382148.60441589355\n",
      "Epoch 2 completed out of 10 Loss 209836.96793484688\n",
      "Epoch 3 completed out of 10 Loss 122800.5397195816\n",
      "Epoch 4 completed out of 10 Loss 76484.05166095495\n",
      "Epoch 5 completed out of 10 Loss 47675.46564568162\n",
      "Epoch 6 completed out of 10 Loss 33016.547896301825\n",
      "Epoch 7 completed out of 10 Loss 22368.65429842472\n",
      "Epoch 8 completed out of 10 Loss 17458.736757695675\n",
      "Epoch 9 completed out of 10 Loss 15739.986754080004\n",
      "Accuracy: 0.942\n"
     ]
    }
   ],
   "source": [
    "def train_neural_network(x):\n",
    "    \n",
    "    predictions= neural_network_model(x)\n",
    "    cost= tf.reduce_mean(tf.nn.softmax_cross_entropy_with_logits(logits=predictions,labels=y))\n",
    "    optimizer= tf.train.AdamOptimizer().minimize(cost)\n",
    "    \n",
    "    total_epochs= 10\n",
    "    \n",
    "    with tf.Session() as sess:\n",
    "        sess.run(tf.initialize_all_variables())\n",
    "        \n",
    "        for epoch in range(total_epochs):\n",
    "            \n",
    "            epoch_loss = 0\n",
    "            for _ in range(int(mnist.train.num_examples/ batch_size)):\n",
    "                epoch_x,epoch_y = mnist.train.next_batch(batch_size)\n",
    "                _,c = sess.run([optimizer,cost], feed_dict={x:epoch_x,y:epoch_y})\n",
    "                epoch_loss += c\n",
    "                \n",
    "            print('Epoch' , epoch ,'completed out of' , total_epochs, 'Loss' , epoch_loss)\n",
    "            \n",
    "        correct= tf.equal(tf.arg_max(predictions,1),tf.arg_max(y,1))\n",
    "        accuracy= tf.reduce_mean(tf.cast(correct,'float'))\n",
    "        print('Accuracy:', accuracy.eval({x:mnist.test.images,y:mnist.test.labels}))\n",
    "            \n",
    "            \n",
    "            \n",
    "train_neural_network(x)"
   ]
  },
  {
   "cell_type": "markdown",
   "metadata": {},
   "source": []
  }
 ],
 "metadata": {
  "kernelspec": {
   "display_name": "tf-gpu",
   "language": "python",
   "name": "tf-gpu"
  },
  "language_info": {
   "codemirror_mode": {
    "name": "ipython",
    "version": 3
   },
   "file_extension": ".py",
   "mimetype": "text/x-python",
   "name": "python",
   "nbconvert_exporter": "python",
   "pygments_lexer": "ipython3",
   "version": "3.7.3"
  }
 },
 "nbformat": 4,
 "nbformat_minor": 2
}
